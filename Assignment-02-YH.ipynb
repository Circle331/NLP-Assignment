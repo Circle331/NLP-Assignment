{
 "cells": [
  {
   "cell_type": "markdown",
   "metadata": {},
   "source": [
    "## Assignments for Week-02"
   ]
  },
  {
   "cell_type": "markdown",
   "metadata": {},
   "source": [
    "In this course, we learnt what's the search problem and what's the machine leanring. In this assignment, we need you do some more practice."
   ]
  },
  {
   "cell_type": "markdown",
   "metadata": {},
   "source": [
    "### 1. Re-code the house price machine learning\n",
    "\n",
    "###### 1. Random Choose Method to get optimal *k* and *b*\n",
    "###### 2.Supervised Direction to get optimal *k* and *b*\n",
    "###### 3.Gradient Descent to get optimal *k* and *b*\n",
    "###### 4. Try different Loss function and learning rate. \n",
    "\n",
    "For example, you can change the loss function: $Loss = \\frac{1}{n} sum({y_i - \\hat{y_i}})^2$ to $Loss = \\frac{1}{n} sum(|{y_i - \\hat{y_i}}|)$\n",
    "\n",
    "And you can change the learning rate and observe the performance."
   ]
  },
  {
   "cell_type": "code",
   "execution_count": 1,
   "metadata": {},
   "outputs": [],
   "source": [
    "from sklearn.datasets import load_boston  #导入波士顿房价数据集\n",
    "import matplotlib.pyplot as plt\n",
    "%matplotlib inline\n",
    "import numpy as np\n",
    "import random\n",
    "import re\n",
    "plt.rcParams['font.sans-serif'] = ['SimHei']\n",
    "plt.rcParams['axes.unicode_minus'] = False"
   ]
  },
  {
   "cell_type": "markdown",
   "metadata": {},
   "source": [
    "![](https://timgsa.baidu.com/timg?image&quality=80&size=b9999_10000&sec=1562414412237&di=8377c38d7b50c6f8d45b92ccc78dc1e7&imgtype=0&src=http%3A%2F%2Fmmbiz.qpic.cn%2Fmmbiz_jpg%2FlSyiavfm6wPgQDuDYa42IMgSkLOcPJU91RbkMibGy7VHLrhhNVLibTYk1iaLcmXKTdHc4icTDVia59QFXwqpW8cLflaw%2F640%3Fwx_fmt%3Djpeg)"
   ]
  },
  {
   "cell_type": "code",
   "execution_count": 2,
   "metadata": {},
   "outputs": [],
   "source": [
    "dataset = load_boston()\n",
    "X, y = dataset['data'], dataset['target']"
   ]
  },
  {
   "cell_type": "code",
   "execution_count": 3,
   "metadata": {},
   "outputs": [],
   "source": [
    "def price(rm, k, b):   #随机定义一个线性函数\n",
    "    \"\"\"f(x) = k * x + b\"\"\"\n",
    "    return k * rm + b  "
   ]
  },
  {
   "cell_type": "code",
   "execution_count": 4,
   "metadata": {},
   "outputs": [],
   "source": [
    "def draw_rm_and_price():    #rm:房间数量和房价的关系  X[:,5]\n",
    "    plt.scatter(X[:, 5], y)"
   ]
  },
  {
   "cell_type": "code",
   "execution_count": 5,
   "metadata": {},
   "outputs": [],
   "source": [
    "def loss(y, y_hat): # to evaluate the performance \n",
    "    return sum((y_i - y_hat_i)**2 for y_i, y_hat_i in zip(list(y), list(y_hat))) / len(list(y))"
   ]
  },
  {
   "cell_type": "markdown",
   "metadata": {},
   "source": [
    "## First-Method: Random generation: get best k and best b"
   ]
  },
  {
   "cell_type": "code",
   "execution_count": 6,
   "metadata": {},
   "outputs": [],
   "source": [
    "def random_k_b(X_data,y_data,trying_times):\n",
    "\n",
    "    min_loss = float('inf')   #正无穷\n",
    "    best_k, best_b = None, None\n",
    "\n",
    "    for i in range(trying_times):\n",
    "        k = random.random() * 200 - 100  #定义k,b在±100的范围\n",
    "        b = random.random() * 200 - 100\n",
    "        price_by_random_k_and_b = [price(r, k, b) for r in X_data]    #如 X_data = X[:, 5]， 用房间数目预测房价\n",
    "\n",
    "        current_loss = loss(y_data, price_by_random_k_and_b)\n",
    "\n",
    "        if current_loss < min_loss:\n",
    "            min_loss = current_loss\n",
    "            best_k, best_b = k, b\n",
    "            print('When time is : {}, get best_k: {} best_b: {}, and the loss is: {}'.format(i, best_k, best_b, min_loss))\n",
    "    return (best_k,best_b)"
   ]
  },
  {
   "cell_type": "code",
   "execution_count": 7,
   "metadata": {},
   "outputs": [
    {
     "name": "stdout",
     "output_type": "stream",
     "text": [
      "When time is : 0, get best_k: -43.74659022356651 best_b: 20.290037825163694, and the loss is: 78245.16914842492\n",
      "When time is : 4, get best_k: 1.8408964019398297 best_b: 71.4315139625071, and the loss is: 3725.965314023563\n",
      "When time is : 10, get best_k: 20.79914093707896 best_b: -57.75590587639785, and the loss is: 2653.82151965352\n",
      "When time is : 11, get best_k: 14.042389855438884 best_b: -68.79626101001321, and the loss is: 65.09819295246767\n",
      "When time is : 545, get best_k: 9.569186535087582 best_b: -35.03787697562319, and the loss is: 50.30346132438841\n",
      "When time is : 1183, get best_k: 9.087448424594896 best_b: -33.700810678490754, and the loss is: 44.370969071438246\n"
     ]
    }
   ],
   "source": [
    "k1,b1=random_k_b(X[:,5],y,2000)"
   ]
  },
  {
   "cell_type": "code",
   "execution_count": 8,
   "metadata": {},
   "outputs": [
    {
     "data": {
      "text/plain": [
       "<matplotlib.collections.PathCollection at 0x5270968128>"
      ]
     },
     "execution_count": 8,
     "metadata": {},
     "output_type": "execute_result"
    },
    {
     "data": {
      "image/png": "[encoded data removed]",
      "text/plain": [
       "<Figure size 432x288 with 1 Axes>"
      ]
     },
     "metadata": {
      "needs_background": "light"
     },
     "output_type": "display_data"
    }
   ],
   "source": [
    "X_rm = X[:, 5]\n",
    "price_by_random_k_and_b = [price(r1, k1, b1) for r1 in X_rm]\n",
    "\n",
    "draw_rm_and_price()\n",
    "plt.scatter(X_rm, price_by_random_k_and_b)"
   ]
  },
  {
   "cell_type": "markdown",
   "metadata": {},
   "source": [
    "## Second Method.Supervised Direction to get optimal *k* and *b*"
   ]
  },
  {
   "cell_type": "code",
   "execution_count": 9,
   "metadata": {},
   "outputs": [],
   "source": [
    "def supervised_direction(X_data,y_data,trying_times): #scalar=调节幅度\n",
    "    min_loss = float('inf')\n",
    "\n",
    "    best_k = random.random() * 200 - 100   #一开始初始的k和b\n",
    "    best_b = random.random() * 200 - 100\n",
    "\n",
    "    #定义k,b可以变化的方向\n",
    "    direction = [\n",
    "        (+1, -1),  # first element: k's change direction, second element: b's change direction\n",
    "        (+1, +1), \n",
    "        (-1, -1), \n",
    "        (-1, +1),\n",
    "    ]\n",
    "\n",
    "    next_direction = random.choice(direction)\n",
    "    \n",
    "\n",
    "    for i in range(trying_times):\n",
    "        scalar = random.random()   #实际运行时采用固定的scalar,结果经常还不如1st method,所以改为随机数\n",
    "        k_direction, b_direction = next_direction\n",
    "\n",
    "        current_k, current_b = best_k + k_direction * scalar, best_b + b_direction * scalar\n",
    "\n",
    "        price_by_k_and_b = [price(r, current_k, current_b) for r in X_data]\n",
    "\n",
    "        current_loss = loss(y_data, price_by_k_and_b)\n",
    "\n",
    "        if current_loss < min_loss: # performance became better,update min_loss and k,b,continue using the current next_direction\n",
    "            min_loss = current_loss\n",
    "            best_k, best_b = current_k, current_b\n",
    "\n",
    "            next_direction = next_direction\n",
    "            print('When time is : {}, get best_k: {} best_b: {}, and the loss is: {}'.format(i, best_k, best_b, min_loss))\n",
    "        else:\n",
    "            next_direction = random.choice(direction)\n",
    "    return best_k,best_b"
   ]
  },
  {
   "cell_type": "code",
   "execution_count": 12,
   "metadata": {
    "scrolled": true
   },
   "outputs": [
    {
     "name": "stdout",
     "output_type": "stream",
     "text": [
      "When time is : 0, get best_k: -57.0199693705921 best_b: 19.59265744830332, and the loss is: 132728.05390953933\n",
      "When time is : 1, get best_k: -56.869068791619554 best_b: 19.441756869330774, and the loss is: 132142.64468670846\n",
      "When time is : 2, get best_k: -55.953180749486116 best_b: 18.525868827197336, and the loss is: 128617.28320182522\n",
      "When time is : 3, get best_k: -55.18072548124209 best_b: 17.753413558953312, and the loss is: 125681.07601656023\n",
      "When time is : 4, get best_k: -54.64441781709583 best_b: 17.217105894807048, and the loss is: 123662.44591117556\n",
      "When time is : 5, get best_k: -54.55563274511563 best_b: 17.12832082282685, and the loss is: 123329.84147021477\n",
      "When time is : 6, get best_k: -54.20375543646268 best_b: 16.776443514173895, and the loss is: 122016.05418667606\n",
      "When time is : 7, get best_k: -53.40374215368142 best_b: 15.976430231392639, and the loss is: 119055.27316806001\n",
      "When time is : 8, get best_k: -52.53815654164615 best_b: 15.11084461935737, and the loss is: 115892.78826249653\n",
      "When time is : 9, get best_k: -52.11333803628228 best_b: 14.686026113993494, and the loss is: 114356.2600631609\n",
      "When time is : 10, get best_k: -51.15863021580805 best_b: 13.731318293519267, and the loss is: 110940.60300188143\n",
      "When time is : 11, get best_k: -50.425618764101074 best_b: 12.99830684181229, and the loss is: 108353.26773177975\n",
      "When time is : 12, get best_k: -49.667727420941986 best_b: 12.240415498653201, and the loss is: 105710.22609264923\n",
      "When time is : 13, get best_k: -49.08387900644656 best_b: 11.656567084157775, and the loss is: 103696.39868196876\n",
      "When time is : 14, get best_k: -48.7477660761932 best_b: 11.320454153904414, and the loss is: 102545.85570295123\n",
      "When time is : 15, get best_k: -48.29081980812096 best_b: 10.863507885832169, and the loss is: 100991.98900643688\n",
      "When time is : 16, get best_k: -47.90242986402556 best_b: 10.475117941736766, and the loss is: 99680.58210217507\n",
      "When time is : 17, get best_k: -47.057245368360014 best_b: 9.629933446071226, and the loss is: 96856.42937517939\n",
      "When time is : 18, get best_k: -46.26039763232173 best_b: 8.83308571003294, and the loss is: 94230.97835495324\n",
      "When time is : 19, get best_k: -46.09968789942631 best_b: 8.672375977137522, and the loss is: 93705.84604041277\n",
      "When time is : 20, get best_k: -45.72512950073581 best_b: 8.297817578447026, and the loss is: 92487.64347640365\n",
      "When time is : 21, get best_k: -45.016409141514124 best_b: 7.5890972192253425, and the loss is: 90204.44178122627\n",
      "When time is : 22, get best_k: -44.98872720397121 best_b: 7.561415281682425, and the loss is: 90115.84145672777\n",
      "When time is : 23, get best_k: -44.169501467524434 best_b: 6.742189545235651, and the loss is: 87513.5008015993\n",
      "When time is : 24, get best_k: -43.22383138314404 best_b: 5.796519460855258, and the loss is: 84556.93218914459\n",
      "When time is : 25, get best_k: -42.719186296122444 best_b: 5.291874373833663, and the loss is: 82999.99657603548\n",
      "When time is : 26, get best_k: -42.70269033923732 best_b: 5.2753784169485405, and the loss is: 82949.34741906168\n",
      "When time is : 27, get best_k: -42.39811878694243 best_b: 4.970806864653655, and the loss is: 82016.97060245006\n",
      "When time is : 28, get best_k: -41.41269586403098 best_b: 3.9853839417421995, and the loss is: 79036.44883369262\n",
      "When time is : 29, get best_k: -40.91334560720664 best_b: 3.4860336849178566, and the loss is: 77547.17942161458\n",
      "When time is : 30, get best_k: -39.984102307484015 best_b: 2.556790385195238, and the loss is: 74813.51873106435\n",
      "When time is : 31, get best_k: -39.196544819787455 best_b: 1.7692328974986749, and the loss is: 72535.09747620973\n",
      "When time is : 32, get best_k: -38.619374709397704 best_b: 1.192062787108922, and the loss is: 70887.71747255573\n",
      "When time is : 33, get best_k: -37.657602670425746 best_b: 0.23029074813696448, and the loss is: 68184.6574534031\n",
      "When time is : 34, get best_k: -36.728722727268575 best_b: -0.6985891950202026, and the loss is: 65623.95164045534\n",
      "When time is : 35, get best_k: -35.8548479716651 best_b: -1.5724639506236784, and the loss is: 63259.65476683847\n",
      "When time is : 36, get best_k: -35.70672888475368 best_b: -1.7205830375350974, and the loss is: 62863.21584581088\n",
      "When time is : 37, get best_k: -35.435010516648695 best_b: -1.992301405640085, and the loss is: 62139.2070535738\n",
      "When time is : 38, get best_k: -35.36028765178536 best_b: -2.067024270503418, and the loss is: 61940.83951231155\n",
      "When time is : 39, get best_k: -34.92723903249478 best_b: -2.500072889794002, and the loss is: 60797.470263756295\n",
      "When time is : 40, get best_k: -34.74555424157423 best_b: -2.6817576807145476, and the loss is: 60320.9458660003\n",
      "When time is : 41, get best_k: -34.2413870106328 best_b: -3.185924911655979, and the loss is: 59008.43901603804\n",
      "When time is : 42, get best_k: -33.443906749550955 best_b: -3.9834051727378266, and the loss is: 56961.84663039948\n",
      "When time is : 43, get best_k: -32.9389895050141 best_b: -4.488322417274679, and the loss is: 55684.75472083012\n",
      "When time is : 44, get best_k: -32.43353674741528 best_b: -4.9937751748735, and the loss is: 54420.82229368631\n",
      "When time is : 45, get best_k: -32.33952524383982 best_b: -5.087786678448957, and the loss is: 54187.339293107565\n",
      "When time is : 46, get best_k: -32.27990150546212 best_b: -5.147410416826656, and the loss is: 54039.520630576255\n",
      "When time is : 47, get best_k: -32.13057168325732 best_b: -5.2967402390314575, and the loss is: 53670.19020276159\n",
      "When time is : 48, get best_k: -32.03663209253195 best_b: -5.390679829756829, and the loss is: 53438.50330302693\n",
      "When time is : 49, get best_k: -31.647854266145824 best_b: -5.7794576561429585, and the loss is: 52484.97887727556\n",
      "When time is : 50, get best_k: -31.007907984403516 best_b: -6.419403937885267, and the loss is: 50934.14329885724\n",
      "When time is : 51, get best_k: -30.277993281503342 best_b: -7.149318640785443, and the loss is: 49193.696381308735\n",
      "When time is : 52, get best_k: -30.21367522101569 best_b: -7.213636701273093, and the loss is: 49041.784819228116\n",
      "When time is : 53, get best_k: -30.16794915819086 best_b: -7.259362764097922, and the loss is: 48933.928337204736\n",
      "When time is : 54, get best_k: -29.314441922941842 best_b: -8.112869999346941, and the loss is: 46942.52814786885\n",
      "When time is : 55, get best_k: -28.65851576707959 best_b: -8.768796155209195, and the loss is: 45440.26150260523\n",
      "When time is : 56, get best_k: -28.190888098109262 best_b: -9.236423824179523, and the loss is: 44384.186621666384\n",
      "When time is : 57, get best_k: -27.81461967850682 best_b: -9.612692243781966, and the loss is: 43543.458713189284\n",
      "When time is : 58, get best_k: -27.125266913865907 best_b: -10.30204500842288, and the loss is: 42024.05740102475\n",
      "When time is : 59, get best_k: -27.118842942498162 best_b: -10.308468979790623, and the loss is: 42010.02536383418\n",
      "When time is : 60, get best_k: -26.4344554815202 best_b: -10.992856440768586, and the loss is: 40528.53766666745\n",
      "When time is : 61, get best_k: -25.590390221729834 best_b: -11.836921700558952, and the loss is: 38738.061908312964\n",
      "When time is : 62, get best_k: -25.2568284034213 best_b: -12.170483518867487, and the loss is: 38041.65670477004\n",
      "When time is : 63, get best_k: -24.32284869652229 best_b: -13.104463225766496, and the loss is: 36125.35363504462\n",
      "When time is : 64, get best_k: -24.0299148292784 best_b: -13.397397093010385, and the loss is: 35534.537668916804\n",
      "When time is : 65, get best_k: -23.308056575274776 best_b: -14.11925534701401, and the loss is: 34099.44626510648\n",
      "When time is : 66, get best_k: -22.815070600149276 best_b: -14.61224132213951, and the loss is: 33136.385549297316\n",
      "When time is : 67, get best_k: -22.766814205825746 best_b: -14.660497716463041, and the loss is: 33042.85773484559\n",
      "When time is : 68, get best_k: -22.588465492656326 best_b: -14.83884642963246, and the loss is: 32698.340933933356\n",
      "When time is : 69, get best_k: -22.49754277357014 best_b: -14.929769148718645, and the loss is: 32523.401020955946\n",
      "When time is : 70, get best_k: -22.332352593068386 best_b: -15.094959329220398, and the loss is: 32206.769130509765\n",
      "When time is : 71, get best_k: -21.921948027862783 best_b: -15.505363894425999, and the loss is: 31426.830782765675\n",
      "When time is : 72, get best_k: -21.084686278002106 best_b: -16.342625644286677, and the loss is: 29865.375560300447\n",
      "When time is : 73, get best_k: -20.983257904950595 best_b: -16.44405401733819, and the loss is: 29678.922109018775\n",
      "When time is : 74, get best_k: -20.091666233003913 best_b: -17.33564568928487, and the loss is: 28065.091812168594\n",
      "When time is : 75, get best_k: -20.00663792200747 best_b: -17.420674000281313, and the loss is: 27913.545872258088\n",
      "When time is : 76, get best_k: -19.592206368986528 best_b: -17.835105553302256, and the loss is: 27180.787328959756\n",
      "When time is : 77, get best_k: -18.842801619001285 best_b: -18.584510303287498, and the loss is: 25880.548497960528\n",
      "When time is : 78, get best_k: -18.758363610130303 best_b: -18.66894831215848, and the loss is: 25736.047119898572\n",
      "When time is : 79, get best_k: -17.91421314280415 best_b: -19.513098779484633, and the loss is: 24313.703881037178\n",
      "When time is : 80, get best_k: -17.546562755489777 best_b: -19.880749166799006, and the loss is: 23706.896561180252\n",
      "When time is : 81, get best_k: -17.47818577086515 best_b: -19.949126151423634, and the loss is: 23594.88760419977\n",
      "When time is : 82, get best_k: -17.371112109767402 best_b: -20.05619981252138, and the loss is: 23420.02317471109\n",
      "When time is : 83, get best_k: -17.35060839248767 best_b: -20.076703529801115, and the loss is: 23386.612429497294\n",
      "When time is : 84, get best_k: -17.203505804565335 best_b: -20.22380611772345, and the loss is: 23147.609913570148\n",
      "When time is : 85, get best_k: -16.360579844683336 best_b: -21.06673207760545, and the loss is: 21801.79691848388\n",
      "When time is : 86, get best_k: -16.159003142020044 best_b: -21.268308780268743, and the loss is: 21485.943943907612\n",
      "When time is : 87, get best_k: -15.270785538665361 best_b: -22.156526383623426, and the loss is: 20121.694922305986\n",
      "When time is : 88, get best_k: -14.460404089682978 best_b: -22.96690783260581, and the loss is: 18916.118151188628\n",
      "When time is : 89, get best_k: -13.778891210756333 best_b: -23.648420711532452, and the loss is: 17931.150700454928\n",
      "When time is : 90, get best_k: -12.901595771613197 best_b: -24.52571615067559, and the loss is: 16702.090788514506\n",
      "When time is : 91, get best_k: -12.45518036008498 best_b: -24.972131562203806, and the loss is: 16093.472689908234\n",
      "When time is : 92, get best_k: -12.43799124538315 best_b: -24.98932067690564, and the loss is: 16070.264479012665\n",
      "When time is : 93, get best_k: -11.629679425348778 best_b: -25.79763249694001, and the loss is: 14997.870494041037\n",
      "When time is : 94, get best_k: -10.686015466431247 best_b: -26.74129645585754, and the loss is: 13792.889913178242\n",
      "When time is : 95, get best_k: -10.54111899021542 best_b: -26.886192932073367, and the loss is: 13612.351789737264\n",
      "When time is : 96, get best_k: -10.493995127333017 best_b: -26.933316794955772, and the loss is: 13553.893560858156\n",
      "When time is : 97, get best_k: -10.388805922387649 best_b: -27.03850599990114, and the loss is: 13423.859285457453\n",
      "When time is : 98, get best_k: -9.579650445610836 best_b: -27.847661476677953, and the loss is: 12444.612545677264\n",
      "When time is : 99, get best_k: -8.584885807119008 best_b: -28.842426115169783, and the loss is: 11291.739149168896\n",
      "When time is : 100, get best_k: -8.137707530226521 best_b: -29.28960439206227, and the loss is: 10791.811377161981\n",
      "When time is : 101, get best_k: -7.559405769985651 best_b: -29.86790615230314, and the loss is: 10162.146836484866\n",
      "When time is : 102, get best_k: -6.934385632109367 best_b: -30.492926290179422, and the loss is: 9502.989287864095\n",
      "When time is : 103, get best_k: -6.267782772146341 best_b: -31.15952915014245, and the loss is: 8824.447504244908\n",
      "When time is : 104, get best_k: -6.179805721607058 best_b: -31.247506200681734, and the loss is: 8736.781461686593\n",
      "When time is : 105, get best_k: -5.342633548092774 best_b: -32.08467837419602, and the loss is: 7924.58037279222\n",
      "When time is : 106, get best_k: -5.048978119881812 best_b: -32.37833380240698, and the loss is: 7649.121620244546\n",
      "When time is : 107, get best_k: -4.084479738851857 best_b: -33.34283218343693, and the loss is: 6778.876799897447\n",
      "When time is : 108, get best_k: -3.6239908573641335 best_b: -33.80332106492465, and the loss is: 6382.037197559319\n",
      "When time is : 109, get best_k: -3.0843107172302604 best_b: -34.34300120505853, and the loss is: 5932.29257147388\n",
      "When time is : 110, get best_k: -2.980235846503569 best_b: -34.44707607578522, and the loss is: 5847.465464648366\n",
      "When time is : 111, get best_k: -2.22646845179924 best_b: -35.200843470489545, and the loss is: 5251.477743843135\n",
      "When time is : 112, get best_k: -2.116389099680534 best_b: -35.31092282260825, and the loss is: 5167.142870991073\n",
      "When time is : 113, get best_k: -1.4494663719242729 best_b: -35.977845550364506, and the loss is: 4670.92198442639\n",
      "When time is : 114, get best_k: -1.0555968972404457 best_b: -36.37171502504833, and the loss is: 4389.739442980431\n",
      "When time is : 115, get best_k: -0.41187781946707225 best_b: -37.01543410282171, and the loss is: 3949.1720230186747\n",
      "When time is : 116, get best_k: 0.507696300174263 best_b: -37.93500822246304, and the loss is: 3360.662453734779\n",
      "When time is : 117, get best_k: 1.391902927619304 best_b: -38.81921484990808, and the loss is: 2840.1149625054404\n",
      "When time is : 118, get best_k: 1.562101348056137 best_b: -38.98941327034491, and the loss is: 2745.0164640006797\n",
      "When time is : 119, get best_k: 2.4995679609988892 best_b: -39.92687988328766, and the loss is: 2250.717629170007\n",
      "When time is : 120, get best_k: 3.3291244073282265 best_b: -40.756436329616996, and the loss is: 1854.9760888019555\n",
      "When time is : 121, get best_k: 3.417304987870212 best_b: -40.84461691015898, and the loss is: 1815.20930680473\n",
      "When time is : 122, get best_k: 3.9893836987176936 best_b: -41.41669562100646, and the loss is: 1567.9538956226397\n",
      "When time is : 123, get best_k: 4.300853766471457 best_b: -41.72816568876022, and the loss is: 1441.1560740269897\n",
      "When time is : 124, get best_k: 4.889372635551381 best_b: -42.31668455784015, and the loss is: 1216.6261269900215\n",
      "When time is : 125, get best_k: 5.72386554803513 best_b: -43.151177470323894, and the loss is: 932.0015278294618\n",
      "When time is : 126, get best_k: 5.946973682762991 best_b: -43.37428560505175, and the loss is: 862.6109189831175\n",
      "When time is : 127, get best_k: 6.9363838473392265 best_b: -44.36369576962799, and the loss is: 588.9816262450139\n",
      "When time is : 128, get best_k: 7.493139118582979 best_b: -44.92045104087174, and the loss is: 459.47150420001094\n",
      "When time is : 129, get best_k: 8.44403877127338 best_b: -45.87135069356214, and the loss is: 279.02093994323883\n",
      "When time is : 130, get best_k: 8.458973189915763 best_b: -45.886285112204526, and the loss is: 276.5967971600878\n",
      "When time is : 131, get best_k: 8.607841433348401 best_b: -46.03515335563716, and the loss is: 253.12564748628745\n",
      "When time is : 132, get best_k: 9.266950895806904 best_b: -46.694262818095666, and the loss is: 164.34285099841202\n",
      "When time is : 133, get best_k: 9.354544293423324 best_b: -46.78185621571209, and the loss is: 154.40276942217267\n",
      "When time is : 134, get best_k: 9.363279140591477 best_b: -46.790591062880246, and the loss is: 153.43545366936482\n",
      "When time is : 135, get best_k: 9.38494199082251 best_b: -46.81225391311128, and the loss is: 151.05517769442244\n",
      "When time is : 136, get best_k: 9.483827361913198 best_b: -46.911139284201965, and the loss is: 140.5286066313957\n",
      "When time is : 137, get best_k: 9.764079142457227 best_b: -47.19139106474599, and the loss is: 113.71491239105818\n",
      "When time is : 138, get best_k: 10.468153310532898 best_b: -47.895465232821664, and the loss is: 66.04728818239761\n",
      "When time is : 139, get best_k: 10.939260754012293 best_b: -48.36657267630106, and the loss is: 49.886496716529\n",
      "When time is : 140, get best_k: 11.455383179495671 best_b: -48.88269510178444, and the loss is: 46.66243173613244\n",
      "When time is : 149, get best_k: 11.220779163926334 best_b: -48.6480910862151, and the loss is: 46.25092149775422\n",
      "When time is : 151, get best_k: 11.232049392032321 best_b: -48.65936131432109, and the loss is: 46.19915626214379\n"
     ]
    },
    {
     "name": "stdout",
     "output_type": "stream",
     "text": [
      "When time is : 177, get best_k: 11.310777399944854 best_b: -48.73808932223362, and the loss is: 46.038917939363444\n",
      "When time is : 381, get best_k: 11.314241405707168 best_b: -48.73462531647131, and the loss is: 46.0376724931585\n",
      "When time is : 876, get best_k: 11.29959321448465 best_b: -48.71997712524879, and the loss is: 46.036853224125686\n",
      "When time is : 1029, get best_k: 11.301409150585357 best_b: -48.721793061349494, and the loss is: 46.03629252897514\n",
      "When time is : 1128, get best_k: 11.307190591816369 best_b: -48.71601162011848, and the loss is: 46.03129153557374\n",
      "When time is : 1397, get best_k: 11.301841339545039 best_b: -48.71066236784715, and the loss is: 46.03106874866244\n",
      "When time is : 1531, get best_k: 11.304588648105682 best_b: -48.71340967640779, and the loss is: 46.03098001292753\n",
      "When time is : 1664, get best_k: 11.305321172746519 best_b: -48.712677151766954, and the loss is: 46.030453309184956\n",
      "When time is : 1838, get best_k: 11.305978798918996 best_b: -48.71201952559448, and the loss is: 46.03002942257774\n",
      "When time is : 1933, get best_k: 11.31055390269984 best_b: -48.70744442181363, and the loss is: 46.02836265227974\n"
     ]
    }
   ],
   "source": [
    "k2,b2=supervised_direction(X[:,5],y,2000)"
   ]
  },
  {
   "cell_type": "code",
   "execution_count": 13,
   "metadata": {},
   "outputs": [
    {
     "data": {
      "text/plain": [
       "<matplotlib.collections.PathCollection at 0x5270a6a6d8>"
      ]
     },
     "execution_count": 13,
     "metadata": {},
     "output_type": "execute_result"
    },
    {
     "data": {
      "image/png": "[encoded data removed]",
      "text/plain": [
       "<Figure size 432x288 with 1 Axes>"
      ]
     },
     "metadata": {
      "needs_background": "light"
     },
     "output_type": "display_data"
    }
   ],
   "source": [
    "X_rm = X[:, 5]\n",
    "price_by_supervisedDirection_k_and_b = [price(r2, k2, b2) for r2 in X_rm]\n",
    "\n",
    "draw_rm_and_price()\n",
    "plt.scatter(X_rm, price_by_supervisedDirection_k_and_b)"
   ]
  },
  {
   "cell_type": "markdown",
   "metadata": {},
   "source": [
    "## 3.Gradient Descent to get optimal *k* and *b*"
   ]
  },
  {
   "cell_type": "markdown",
   "metadata": {},
   "source": [
    "$$b=b-\\frac{\\alpha}{n}(h_\\theta(x)-y)$$\n",
    "$$k=k-\\frac{\\alpha}{n}(h_\\theta(x)-y)x_i$$"
   ]
  },
  {
   "cell_type": "code",
   "execution_count": 14,
   "metadata": {},
   "outputs": [],
   "source": [
    "def h(x,k,b):\n",
    "    #print(k,b)\n",
    "    return k*x+b   #拟合函数为 y=b+k*x\n",
    "\n",
    "def gradient_descent(X_data,y_data,trying_times):\n",
    "    min_loss=float('inf')\n",
    "    #步长\n",
    "    alpha = 0.001\n",
    "    diff = [0,0]\n",
    "    m = len(X_rm)           #计算样本个数\n",
    "    #初始化参数的值，拟合函数为 y=theta0+theta1*x\n",
    "    b = 0\n",
    "    k = 0\n",
    "\n",
    "\n",
    "    for t in range(trying_times):\n",
    "    #梯度下降\n",
    "        for i in range(m):\n",
    "            diff[0]+=h(X_data[i],k,b)-y_data[i]\n",
    "            diff[1]+=(h(X_data[i],k,b)-y_data[i])*X_data[i]\n",
    "        b=b-alpha/m*diff[0]\n",
    "        k=k-alpha/m*diff[1]\n",
    "\n",
    "        price_by_random_k_and_b = [price(r, k, b) for r in X_data]    #用房间数目预测房价\n",
    "        current_loss = loss(y_data, price_by_random_k_and_b)\n",
    "\n",
    "        if current_loss < min_loss:\n",
    "            min_loss = current_loss\n",
    "            best_k, best_b = k, b\n",
    "            print('When time is : {}, get best_k: {} best_b: {}, and the loss is: {}'.format(t, best_k, best_b, min_loss))\n",
    "    return (best_k,best_b)"
   ]
  },
  {
   "cell_type": "code",
   "execution_count": 19,
   "metadata": {
    "scrolled": true
   },
   "outputs": [
    {
     "name": "stdout",
     "output_type": "stream",
     "text": [
      "When time is : 0, get best_k: 0.1460950150197629 best_b: 0.0225328063241107, and the loss is: 549.3393626193774\n",
      "When time is : 1, get best_k: 0.4323011936319272 best_b: 0.06665773241079415, and the loss is: 470.6688665427166\n",
      "When time is : 2, get best_k: 0.8468960350299609 best_b: 0.130531952141985, and the loss is: 368.8980291581159\n",
      "When time is : 3, get best_k: 1.3728987454064154 best_b: 0.21148601430088335, and the loss is: 260.5369610907961\n",
      "When time is : 4, get best_k: 1.988766064953352 best_b: 0.3061332301038579, and the loss is: 163.16484689205578\n",
      "When time is : 5, get best_k: 2.6692750523725026 best_b: 0.4105084514006352, and the loss is: 92.57807280279172\n",
      "When time is : 6, get best_k: 3.386556652768604 best_b: 0.5202305527866821, and the loss is: 60.2275780052198\n",
      "When time is : 37, get best_k: 3.444205448954485 best_b: 0.22027686539847982, and the loss is: 59.81748040173152\n",
      "When time is : 68, get best_k: 3.5652206052515774 best_b: -0.4827487057880721, and the loss is: 59.07660014996466\n",
      "When time is : 99, get best_k: 3.7483233283558945 best_b: -1.5807121527267607, and the loss is: 58.03257405858367\n",
      "When time is : 130, get best_k: 3.9915181270107625 best_b: -3.0609204671865045, and the loss is: 56.72740072361706\n",
      "When time is : 161, get best_k: 4.292115846155934 best_b: -4.906268163687251, and the loss is: 55.21550706689698\n",
      "When time is : 192, get best_k: 4.646764708441586 best_b: -7.095434738229882, and the loss is: 53.56124264775959\n",
      "When time is : 223, get best_k: 5.051489004777289 best_b: -9.60313078343882, and the loss is: 51.83591711257493\n",
      "When time is : 254, get best_k: 5.501734987287984 best_b: -12.400389919066972, and the loss is: 50.11451718111472\n",
      "When time is : 285, get best_k: 5.9924234349082655 best_b: -15.454903167939234, and the loss is: 48.47225432322204\n",
      "When time is : 316, get best_k: 6.518008284819404 best_b: -18.73139191743841, and the loss is: 46.98110207445782\n",
      "When time is : 347, get best_k: 7.072540652912576 best_b: -22.192015161221978, and the loss is: 45.706482416425345\n",
      "When time is : 378, get best_k: 7.649737504252592 best_b: -25.79680632014143, and the loss is: 44.70425378438096\n",
      "When time is : 409, get best_k: 8.243054180839117 best_b: -29.504134599885987, and the loss is: 44.018139377492645\n",
      "When time is : 440, get best_k: 8.845759949435307 best_b: -33.27118555963083, and the loss is: 43.677714175101706\n",
      "When time is : 4964, get best_k: 9.447697909810266 best_b: -36.81131982507544, and the loss is: 43.66036870556102\n",
      "When time is : 4995, get best_k: 8.8629066334225 best_b: -33.0245581603575, and the loss is: 43.6491240537084\n"
     ]
    },
    {
     "data": {
      "text/plain": [
       "<matplotlib.collections.PathCollection at 0x52705efb70>"
      ]
     },
     "execution_count": 19,
     "metadata": {},
     "output_type": "execute_result"
    },
    {
     "data": {
      "image/png": "[encoded data removed]",
      "text/plain": [
       "<Figure size 432x288 with 1 Axes>"
      ]
     },
     "metadata": {
      "needs_background": "light"
     },
     "output_type": "display_data"
    }
   ],
   "source": [
    "X_rm = X[:, 5]\n",
    "k,b=gradient_descent(X_rm,y,10000)\n",
    "price_gradient_descent = [price(r3, k, b) for r3 in X_rm]\n",
    "\n",
    "draw_rm_and_price()\n",
    "plt.scatter(X_rm, price_gradient_descent)"
   ]
  },
  {
   "cell_type": "markdown",
   "metadata": {},
   "source": [
    "## 4. Try different Loss function and learning rate. \n",
    "$Loss = \\frac{1}{n} sum({y_i - \\hat{y_i}})^2$ to $Loss = \\frac{1}{n} sum(|{y_i - \\hat{y_i}}|)$"
   ]
  },
  {
   "cell_type": "code",
   "execution_count": 16,
   "metadata": {},
   "outputs": [],
   "source": [
    "def loss2(y, y_hat): # to evaluate the performance \n",
    "    return sum(abs(y_i - y_hat_i) for y_i, y_hat_i in zip(list(y), list(y_hat))) / len(list(y))"
   ]
  },
  {
   "cell_type": "code",
   "execution_count": 17,
   "metadata": {},
   "outputs": [],
   "source": [
    "def gradient_descent2(X_data,y_data,trying_times):\n",
    "    min_loss=float('inf')\n",
    "    #步长\n",
    "    alpha = 0.001\n",
    "    diff = [0,0]\n",
    "    m = len(X_rm)           #计算样本个数\n",
    "    #初始化参数的值，拟合函数为 y=theta0+theta1*x\n",
    "    b = 0\n",
    "    k = 0\n",
    "\n",
    "\n",
    "    for t in range(trying_times):\n",
    "    #梯度下降\n",
    "        for i in range(m):\n",
    "            diff[0]+=h(X_data[i],k,b)-y_data[i]\n",
    "            diff[1]+=(h(X_data[i],k,b)-y_data[i])*X_data[i]\n",
    "        b=b-alpha/m*diff[0]\n",
    "        k=k-alpha/m*diff[1]\n",
    "\n",
    "        price_by_random_k_and_b = [price(r, k, b) for r in X_data]    \n",
    "        current_loss = loss2(y_data, price_by_random_k_and_b)   #使用不同的loss表达式\n",
    "\n",
    "        if current_loss < min_loss:\n",
    "            min_loss = current_loss\n",
    "            best_k, best_b = k, b\n",
    "            print('When time is : {}, get best_k: {} best_b: {}, and the loss is: {}'.format(t, best_k, best_b, min_loss))\n",
    "    return (best_k,best_b)"
   ]
  },
  {
   "cell_type": "code",
   "execution_count": 20,
   "metadata": {
    "scrolled": true
   },
   "outputs": [
    {
     "name": "stdout",
     "output_type": "stream",
     "text": [
      "When time is : 0, get best_k: 0.1460950150197629 best_b: 0.0225328063241107, and the loss is: 21.59211976257268\n",
      "When time is : 1, get best_k: 0.4323011936319272 best_b: 0.06665773241079415, and the loss is: 19.749293644507443\n",
      "When time is : 2, get best_k: 0.8468960350299609 best_b: 0.130531952141985, and the loss is: 17.079842427707522\n",
      "When time is : 3, get best_k: 1.3728987454064154 best_b: 0.21148601430088335, and the loss is: 13.764940813733174\n",
      "When time is : 4, get best_k: 1.988766064953352 best_b: 0.3061332301038579, and the loss is: 10.190047591163102\n",
      "When time is : 5, get best_k: 2.6692750523725026 best_b: 0.4105084514006352, and the loss is: 7.141717286470722\n",
      "When time is : 6, get best_k: 3.386556652768604 best_b: 0.5202305527866821, and the loss is: 5.448726549844317\n",
      "When time is : 22, get best_k: 3.3928215511577697 best_b: 0.41363124425789366, and the loss is: 5.447132598836711\n",
      "When time is : 37, get best_k: 3.444205448954485 best_b: 0.22027686539847982, and the loss is: 5.432924442078635\n",
      "When time is : 53, get best_k: 3.462809702513319 best_b: -0.09830909172288399, and the loss is: 5.429011225871288\n",
      "When time is : 68, get best_k: 3.5652206052515774 best_b: -0.4827487057880721, and the loss is: 5.399408053992795\n",
      "When time is : 84, get best_k: 3.5955950885003154 best_b: -1.0096993964124383, and the loss is: 5.396611387105741\n",
      "When time is : 99, get best_k: 3.7483233283558945 best_b: -1.5807121527267607, and the loss is: 5.348751725192032\n",
      "When time is : 130, get best_k: 3.9915181270107625 best_b: -3.0609204671865045, and the loss is: 5.284731045137511\n",
      "When time is : 161, get best_k: 4.292115846155934 best_b: -4.906268163687251, and the loss is: 5.208792418609302\n",
      "When time is : 192, get best_k: 4.646764708441586 best_b: -7.095434738229882, and the loss is: 5.121985919334296\n",
      "When time is : 223, get best_k: 5.051489004777289 best_b: -9.60313078343882, and the loss is: 5.030786998287826\n",
      "When time is : 254, get best_k: 5.501734987287984 best_b: -12.400389919066972, and the loss is: 4.936101382982473\n",
      "When time is : 285, get best_k: 5.9924234349082655 best_b: -15.454903167939234, and the loss is: 4.840779772888248\n",
      "When time is : 316, get best_k: 6.518008284819404 best_b: -18.73139191743841, and the loss is: 4.746934626010639\n",
      "When time is : 347, get best_k: 7.072540652912576 best_b: -22.192015161221978, and the loss is: 4.661043771090997\n",
      "When time is : 378, get best_k: 7.649737504252592 best_b: -25.79680632014143, and the loss is: 4.585798402841064\n",
      "When time is : 409, get best_k: 8.243054180839117 best_b: -29.504134599885987, and the loss is: 4.517806749135684\n",
      "When time is : 440, get best_k: 8.845759949435307 best_b: -33.27118555963083, and the loss is: 4.468813774444147\n",
      "When time is : 471, get best_k: 9.451015697371004 best_b: -37.05445534420641, and the loss is: 4.45017096158557\n",
      "When time is : 4933, get best_k: 10.02860184417646 best_b: -40.5733541206846, and the loss is: 4.445850515099135\n",
      "When time is : 4964, get best_k: 9.447697909810266 best_b: -36.81131982507544, and the loss is: 4.439118063622342\n",
      "When time is : 5909, get best_k: 9.555199320432646 best_b: -37.28162269667199, and the loss is: 4.437121312510479\n"
     ]
    },
    {
     "data": {
      "text/plain": [
       "<matplotlib.collections.PathCollection at 0x527064fa20>"
      ]
     },
     "execution_count": 20,
     "metadata": {},
     "output_type": "execute_result"
    },
    {
     "data": {
      "image/png": "[encoded data removed]",
      "text/plain": [
       "<Figure size 432x288 with 1 Axes>"
      ]
     },
     "metadata": {
      "needs_background": "light"
     },
     "output_type": "display_data"
    }
   ],
   "source": [
    "X_rm = X[:, 5]\n",
    "k,b=gradient_descent2(X_rm,y,10000)\n",
    "price_by_gradient_descent2 = [price(r4, k, b) for r4 in X_rm]\n",
    "\n",
    "draw_rm_and_price()\n",
    "plt.scatter(X_rm, price_by_gradient_descent2)"
   ]
  },
  {
   "cell_type": "markdown",
   "metadata": {},
   "source": [
    "## 2. Answer following questions:\n",
    "\n",
    "\n",
    "###### 1. Why do we need machine learning methods instead of creating a complicated formula?\n"
   ]
  },
  {
   "cell_type": "markdown",
   "metadata": {},
   "source": [
    "Ans:因为可能情况不停的在变化，再复杂的公式都不可能handle新的情况，比如垃圾邮件的例子。所以我们让机器基于数据去学习，可以不断修正函数"
   ]
  },
  {
   "cell_type": "markdown",
   "metadata": {},
   "source": [
    "###### 2.  Wha't's the disadvantages of `the 1st Random Choosen` methods in our course? "
   ]
  },
  {
   "cell_type": "markdown",
   "metadata": {},
   "source": [
    "Ans:没有方向性，想要实现大的精度，非常耗时间。如果参数不止一个k,一个b，那变化的空间就更大了，实现一定的精度更慢"
   ]
  },
  {
   "cell_type": "markdown",
   "metadata": {},
   "source": [
    "###### 3. Is the `2nd method supervised direction` better than 1st one?  What's the disadvantages of `the 2nd supversied directin` method? "
   ]
  },
  {
   "cell_type": "markdown",
   "metadata": {},
   "source": [
    "Ans:第二种方法增加了方向的选择，一定程度上优于第一种方法。但是如果参数不止一个k,对很多的k1,k2,k3,k4...b做random.choice，可以组合的choice也非常大，减小了往正确方向移动的可能性"
   ]
  },
  {
   "cell_type": "markdown",
   "metadata": {},
   "source": [
    "###### 4. Why do we use `Derivative / Gredient` to fit a target function? "
   ]
  },
  {
   "cell_type": "markdown",
   "metadata": {},
   "source": [
    "Ans:因为求导以后，负的斜率说明变化的方向是正确的，可以进一步向着这个方向优化。优于2nd method supervised direction"
   ]
  },
  {
   "cell_type": "markdown",
   "metadata": {},
   "source": [
    "###### 5. In the words 'Gredient Descent', what's the `Gredient` and what's the `Descent`?"
   ]
  },
  {
   "cell_type": "markdown",
   "metadata": {},
   "source": [
    "Ans:梯度是损失函数对参数的偏导数，下降代表了是按照梯度的负方向"
   ]
  },
  {
   "cell_type": "markdown",
   "metadata": {},
   "source": [
    "###### 6. What's the advantages of `the 3rd gradient descent method` compared to the previous methods?"
   ]
  },
  {
   "cell_type": "markdown",
   "metadata": {},
   "source": [
    "Ans:变化的方向更明确，每一次都朝着更小的方向更新"
   ]
  },
  {
   "cell_type": "markdown",
   "metadata": {},
   "source": [
    "###### 7. Using the simple words to describe: What's the machine leanring."
   ]
  },
  {
   "cell_type": "markdown",
   "metadata": {},
   "source": [
    "Ans:通过大量的数据+一定的规则引导，让机器自己学习输入与输出的关系"
   ]
  },
  {
   "cell_type": "markdown",
   "metadata": {},
   "source": [
    "## 3. Finish the search problem"
   ]
  },
  {
   "cell_type": "markdown",
   "metadata": {},
   "source": [
    "Please using the search policy to implement an agent. This agent receives two input, one is @param start station and the other is @param destination. Your agent should give the optimal route based on Beijing Subway system. "
   ]
  },
  {
   "cell_type": "markdown",
   "metadata": {},
   "source": [
    "> Deadline: 2019-July-13\n",
    "\n",
    ">Submit: Submit the source code and result to github. \n",
    "\n"
   ]
  },
  {
   "cell_type": "markdown",
   "metadata": {},
   "source": [
    "![](https://timgsa.baidu.com/timg?image&quality=80&size=b9999_10000&sec=1562414356407&di=b57814aafd215bb8b8d9d8cd37c573d6&imgtype=0&src=http%3A%2F%2Fcli.clewm.net%2Ffile%2F2015%2F03%2F24%2F174ed60082b8422ac0636cfd3efb9e7f.jpg)"
   ]
  },
  {
   "cell_type": "markdown",
   "metadata": {},
   "source": [
    "#### Dataflow: "
   ]
  },
  {
   "cell_type": "markdown",
   "metadata": {},
   "source": [
    "##### 1.\tGet data from web page.\n",
    "\n",
    "> a.\tGet web page source from: https://baike.baidu.com/item/%E5%8C%97%E4%BA%AC%E5%9C%B0%E9%93%81/408485\n",
    "\n",
    "> b.\tYou may need @package **requests**[https://2.python-requests.org/en/master/] page to get the response via url\n",
    "\n",
    "> c.\tYou may need save the page source to file system.\n",
    "\n",
    "> d.\tThe target of this step is to get station information of all the subway lines;\n",
    "\n",
    "> e.\tYou may need install @package beautiful soup[https://www.crummy.com/software/BeautifulSoup/bs4/doc/]  to get the url information, or just use > Regular Expression to get the url.  Our recommendation is that using the Regular Expression and BeautiflSoup both. \n",
    "\n",
    "> f.\tYou may need BFS to get all the related page url from one url. \n",
    "Question: Why do we use BFS to traverse web page (or someone said, build a web spider)?  Can DFS do this job? which is better? "
   ]
  },
  {
   "cell_type": "markdown",
   "metadata": {},
   "source": [
    "##### 2.\tPreprocessing data from page source.\n",
    "\n",
    "> a.\tBased on the page source gotten from url. You may need some more preprocessing of the page. \n",
    "\n",
    "> b.\tthe Regular Expression you may need to process the text information.\n",
    "\n",
    "> c.\tYou may need @package networkx, @package matplotlib to visualize data. \n",
    "\n",
    "> d.\tYou should build a dictionary or graph which could represent the connection information of Beijing subway routes. \n",
    "\n",
    "> e.\tYou may need the defaultdict, set data structures to implement this procedure. "
   ]
  },
  {
   "cell_type": "markdown",
   "metadata": {},
   "source": [
    "##### 3. Build the search agent\n",
    "\n",
    "> Build the search agent based on the graph we build.\n",
    "\n",
    "for example, when you run: \n",
    "\n",
    "```python\n",
    ">>> search('奥体中心', '天安门') \n",
    "```\n",
    "you need get the result: \n",
    "\n",
    "奥体中心-> A -> B -> C -> ... -> 天安门\n",
    "\n"
   ]
  },
  {
   "cell_type": "code",
   "execution_count": 21,
   "metadata": {},
   "outputs": [],
   "source": [
    "import requests\n",
    "import networkx as nx\n",
    "from collections import defaultdict\n",
    "from bs4 import BeautifulSoup"
   ]
  },
  {
   "cell_type": "code",
   "execution_count": 22,
   "metadata": {},
   "outputs": [],
   "source": [
    "url = 'http://www.bjsubway.com/station/zjgls/'  #北京地铁官网"
   ]
  },
  {
   "cell_type": "code",
   "execution_count": 23,
   "metadata": {},
   "outputs": [],
   "source": [
    "response = requests.get(url)\n",
    "response.encoding='GBK'"
   ]
  },
  {
   "cell_type": "code",
   "execution_count": 24,
   "metadata": {},
   "outputs": [],
   "source": [
    "soup=BeautifulSoup(response.text,'lxml')"
   ]
  },
  {
   "cell_type": "code",
   "execution_count": 25,
   "metadata": {},
   "outputs": [],
   "source": [
    "lines=soup.find_all('div',class_='line_place')      #每个line是一条地铁线路的站点信息"
   ]
  },
  {
   "cell_type": "code",
   "execution_count": 26,
   "metadata": {
    "scrolled": false
   },
   "outputs": [
    {
     "name": "stdout",
     "output_type": "stream",
     "text": [
      "四惠——四惠东\n",
      "积水潭——西直门\n",
      "角门西——公益西桥\n",
      "刘家窑——宋家庄\n",
      "东夏园——潞城\n",
      "双合——焦化厂\n",
      "什刹海——南锣鼓巷\n",
      "丰台科技园——郭公庄\n",
      "火器营——巴沟\n",
      "柳芳——东直门\n",
      "七里庄——西局\n",
      "来广营——善各庄\n",
      "顺义——俸伯\n",
      "临河里——土桥\n",
      "生命科学园——西二旗\n",
      "次渠南——次渠\n",
      "生物医药基地——天宫院\n",
      "良乡南关——苏庄\n",
      "T2航站楼——三元桥\n"
     ]
    }
   ],
   "source": [
    "path_lst=[]                      #路径列表 \n",
    "dis_dic={}                       #站间距离的字典\n",
    "for line in lines:\n",
    "    tbodys=line.find_all('tbody')\n",
    "    for tbody in tbodys:   #14号线有东西两段\n",
    "        trs=tbody.find_all('tr')\n",
    "        for tr in trs:\n",
    "            sub_route=tr.find('th').text\n",
    "            path_lst.append(sub_route)\n",
    "            dis_dic[sub_route]=tr.find('td').text\n",
    "            dis_dic[sub_route.split('——')[1]+'——'+sub_route.split('——')[0]]=tr.find('td').text\n",
    "            \n",
    "        print(path_lst[-1])  #打印每条线路最后一个站点查看信息的完整性"
   ]
  },
  {
   "cell_type": "code",
   "execution_count": 27,
   "metadata": {},
   "outputs": [
    {
     "data": {
      "text/plain": [
       "defaultdict(list,\n",
       "            {'苹果园': ['古城'],\n",
       "             '古城': ['苹果园', '八角游乐园'],\n",
       "             '八角游乐园': ['古城', '八宝山'],\n",
       "             '八宝山': ['八角游乐园', '玉泉路'],\n",
       "             '玉泉路': ['八宝山', '五棵松'],\n",
       "             '五棵松': ['玉泉路', '万寿路'],\n",
       "             '万寿路': ['五棵松', '公主坟'],\n",
       "             '公主坟': ['万寿路', '军事博物馆', '莲花桥', '西钓鱼台'],\n",
       "             '军事博物馆': ['公主坟', '木樨地', '白堆子', '北京西站'],\n",
       "             '木樨地': ['军事博物馆', '南礼士路'],\n",
       "             '南礼士路': ['木樨地', '复兴门'],\n",
       "             '复兴门': ['南礼士路', '西单', '阜成门', '长椿街'],\n",
       "             '西单': ['复兴门', '天安门西', '灵境胡同', '宣武门'],\n",
       "             '天安门西': ['西单', '天安门东'],\n",
       "             '天安门东': ['天安门西', '王府井'],\n",
       "             '王府井': ['天安门东', '东单'],\n",
       "             '东单': ['王府井', '建国门', '灯市口', '崇文门'],\n",
       "             '建国门': ['东单', '永安里', '北京站', '朝阳门'],\n",
       "             '永安里': ['建国门', '国贸'],\n",
       "             '国贸': ['永安里', '大望路', '金台夕照', '双井'],\n",
       "             '大望路': ['国贸', '四惠', '九龙山', '红庙'],\n",
       "             '四惠': ['大望路', '四惠东', '四惠东'],\n",
       "             '四惠东': ['四惠', '四惠', '高碑店'],\n",
       "             '西直门': ['车公庄', '积水潭', '动物园', '新街口', '大钟寺'],\n",
       "             '车公庄': ['西直门', '阜成门', '车公庄西', '平安里'],\n",
       "             '阜成门': ['车公庄', '复兴门'],\n",
       "             '长椿街': ['复兴门', '宣武门'],\n",
       "             '宣武门': ['长椿街', '和平门', '西单', '菜市口'],\n",
       "             '和平门': ['宣武门', '前门'],\n",
       "             '前门': ['和平门', '崇文门'],\n",
       "             '崇文门': ['前门', '北京站', '东单', '磁器口'],\n",
       "             '北京站': ['崇文门', '建国门'],\n",
       "             '朝阳门': ['建国门', '东四十条', '东四', '东大桥'],\n",
       "             '东四十条': ['朝阳门', '东直门'],\n",
       "             '东直门': ['东四十条', '雍和宫', '柳芳', '三元桥'],\n",
       "             '雍和宫': ['东直门', '安定门', '和平里北街', '北新桥'],\n",
       "             '安定门': ['雍和宫', '鼓楼大街'],\n",
       "             '鼓楼大街': ['安定门', '积水潭', '安德里北街', '什刹海'],\n",
       "             '积水潭': ['鼓楼大街', '西直门'],\n",
       "             '安河桥北': ['北宫门'],\n",
       "             '北宫门': ['安河桥北', '西苑'],\n",
       "             '西苑': ['北宫门', '圆明园'],\n",
       "             '圆明园': ['西苑', '北京大学东门'],\n",
       "             '北京大学东门': ['圆明园', '中关村'],\n",
       "             '中关村': ['北京大学东门', '海淀黄庄'],\n",
       "             '海淀黄庄': ['中关村', '人民大学', '苏州街', '知春里'],\n",
       "             '人民大学': ['海淀黄庄', '魏公村'],\n",
       "             '魏公村': ['人民大学', '国家图书馆'],\n",
       "             '国家图书馆': ['魏公村', '动物园', '白石桥南'],\n",
       "             '动物园': ['国家图书馆', '西直门'],\n",
       "             '新街口': ['西直门', '平安里'],\n",
       "             '平安里': ['新街口', '西四', '车公庄', '北海北'],\n",
       "             '西四': ['平安里', '灵境胡同'],\n",
       "             '灵境胡同': ['西四', '西单'],\n",
       "             '菜市口': ['宣武门', '陶然亭', '广安门内', '虎坊桥'],\n",
       "             '陶然亭': ['菜市口', '北京南站'],\n",
       "             '北京南站': ['陶然亭', '马家堡', '陶然桥'],\n",
       "             '马家堡': ['北京南站', '角门西'],\n",
       "             '角门西': ['马家堡', '公益西桥', '角门东', '草桥'],\n",
       "             '公益西桥': ['角门西', '新宫'],\n",
       "             '天通苑北': ['天通苑'],\n",
       "             '天通苑': ['天通苑北', '天通苑南'],\n",
       "             '天通苑南': ['天通苑', '立水桥'],\n",
       "             '立水桥': ['天通苑南', '立水桥南', '霍营', '北苑'],\n",
       "             '立水桥南': ['立水桥', '北苑路北'],\n",
       "             '北苑路北': ['立水桥南', '大屯路东'],\n",
       "             '大屯路东': ['北苑路北', '惠新西街北口', '安立路', '关庄'],\n",
       "             '惠新西街北口': ['大屯路东', '惠新西街南口'],\n",
       "             '惠新西街南口': ['惠新西街北口', '和平西桥', '安贞门', '芍药居'],\n",
       "             '和平西桥': ['惠新西街南口', '和平里北街'],\n",
       "             '和平里北街': ['和平西桥', '雍和宫'],\n",
       "             '北新桥': ['雍和宫', '张自忠路'],\n",
       "             '张自忠路': ['北新桥', '东四'],\n",
       "             '东四': ['张自忠路', '灯市口', '南锣鼓巷', '朝阳门'],\n",
       "             '灯市口': ['东四', '东单'],\n",
       "             '磁器口': ['崇文门', '天坛东门', '桥湾', '广渠门内'],\n",
       "             '天坛东门': ['磁器口', '蒲黄榆'],\n",
       "             '蒲黄榆': ['天坛东门', '刘家窑', '景泰', '方庄'],\n",
       "             '刘家窑': ['蒲黄榆', '宋家庄'],\n",
       "             '宋家庄': ['刘家窑', '成寿寺', '石榴庄', '肖村'],\n",
       "             '海淀五路居': ['慈寿寺'],\n",
       "             '慈寿寺': ['海淀五路居', '花园桥', '西钓鱼台', '车道沟'],\n",
       "             '花园桥': ['慈寿寺', '白石桥南'],\n",
       "             '白石桥南': ['花园桥', '车公庄西', '国家图书馆', '白堆子'],\n",
       "             '车公庄西': ['白石桥南', '车公庄'],\n",
       "             '北海北': ['平安里', '南锣鼓巷'],\n",
       "             '南锣鼓巷': ['北海北', '东四', '什刹海'],\n",
       "             '东大桥': ['朝阳门', '呼家楼'],\n",
       "             '呼家楼': ['东大桥', '金台路', '团结湖', '金台夕照'],\n",
       "             '金台路': ['呼家楼', '十里堡', '红庙', '朝阳公园'],\n",
       "             '十里堡': ['金台路', '青年路'],\n",
       "             '青年路': ['十里堡', '褡裢坡'],\n",
       "             '褡裢坡': ['青年路', '黄渠'],\n",
       "             '黄渠': ['褡裢坡', '常营'],\n",
       "             '常营': ['黄渠', '草房'],\n",
       "             '草房': ['常营', '物资学院路'],\n",
       "             '物资学院路': ['草房', '通州北关'],\n",
       "             '通州北关': ['物资学院路', '通运门'],\n",
       "             '通运门': ['通州北关', '北运河西'],\n",
       "             '北运河西': ['通运门', '北运河东'],\n",
       "             '北运河东': ['北运河西', '郝家府'],\n",
       "             '郝家府': ['北运河东', '东夏园'],\n",
       "             '东夏园': ['郝家府', '潞城'],\n",
       "             '潞城': ['东夏园'],\n",
       "             '北京西站': ['湾子', '军事博物馆', '六里桥东'],\n",
       "             '湾子': ['北京西站', '达官营'],\n",
       "             '达官营': ['湾子', '广安门内'],\n",
       "             '广安门内': ['达官营', '菜市口'],\n",
       "             '虎坊桥': ['菜市口', '珠市口'],\n",
       "             '珠市口': ['虎坊桥', '桥湾'],\n",
       "             '桥湾': ['珠市口', '磁器口'],\n",
       "             '广渠门内': ['磁器口', '广渠门外'],\n",
       "             '广渠门外': ['广渠门内', '双井'],\n",
       "             '双井': ['广渠门外', '九龙山', '国贸', '劲松'],\n",
       "             '九龙山': ['双井', '大郊亭', '平乐园', '大望路'],\n",
       "             '大郊亭': ['九龙山', '百子湾'],\n",
       "             '百子湾': ['大郊亭', '化工'],\n",
       "             '化工': ['百子湾', '南楼梓庄'],\n",
       "             '南楼梓庄': ['化工', '欢乐谷景区'],\n",
       "             '欢乐谷景区': ['南楼梓庄', '垡头'],\n",
       "             '垡头': ['欢乐谷景区', '双合'],\n",
       "             '双合': ['垡头', '焦化厂'],\n",
       "             '焦化厂': ['双合'],\n",
       "             '朱辛庄': ['育知路', '巩华城', '生命科学园'],\n",
       "             '育知路': ['朱辛庄', '平西府'],\n",
       "             '平西府': ['育知路', '回龙观东大街'],\n",
       "             '回龙观东大街': ['平西府', '霍营'],\n",
       "             '霍营': ['回龙观东大街', '育新', '回龙观', '立水桥'],\n",
       "             '育新': ['霍营', '西小口'],\n",
       "             '西小口': ['育新', '永泰庄'],\n",
       "             '永泰庄': ['西小口', '林萃桥'],\n",
       "             '林萃桥': ['永泰庄', '森林公园南门'],\n",
       "             '森林公园南门': ['林萃桥', '奥林匹克公园'],\n",
       "             '奥林匹克公园': ['森林公园南门', '奥体中心', '北沙滩', '安立路'],\n",
       "             '奥体中心': ['奥林匹克公园', '北土城'],\n",
       "             '北土城': ['奥体中心', '安华桥', '健德门', '安贞门'],\n",
       "             '安华桥': ['北土城', '安德里北街'],\n",
       "             '安德里北街': ['安华桥', '鼓楼大街'],\n",
       "             '什刹海': ['鼓楼大街', '南锣鼓巷'],\n",
       "             '白堆子': ['白石桥南', '军事博物馆'],\n",
       "             '六里桥东': ['北京西站', '六里桥'],\n",
       "             '六里桥': ['六里桥东', '七里庄', '西局', '莲花桥'],\n",
       "             '七里庄': ['六里桥', '丰台东大街', '大井', '西局'],\n",
       "             '丰台东大街': ['七里庄', '丰台南路'],\n",
       "             '丰台南路': ['丰台东大街', '科怡路'],\n",
       "             '科怡路': ['丰台南路', '丰台科技园'],\n",
       "             '丰台科技园': ['科怡路', '郭公庄'],\n",
       "             '郭公庄': ['丰台科技园', '大葆台'],\n",
       "             '巴沟': ['苏州街', '火器营'],\n",
       "             '苏州街': ['巴沟', '海淀黄庄'],\n",
       "             '知春里': ['海淀黄庄', '知春路'],\n",
       "             '知春路': ['知春里', '西土城', '大钟寺', '五道口'],\n",
       "             '西土城': ['知春路', '牡丹园'],\n",
       "             '牡丹园': ['西土城', '健德门'],\n",
       "             '健德门': ['牡丹园', '北土城'],\n",
       "             '安贞门': ['北土城', '惠新西街南口'],\n",
       "             '芍药居': ['惠新西街南口', '太阳宫', '望京西', '光熙门'],\n",
       "             '太阳宫': ['芍药居', '三元桥'],\n",
       "             '三元桥': ['太阳宫', '亮马桥', '东直门', 'T3航站楼', 'T2航站楼'],\n",
       "             '亮马桥': ['三元桥', '农业展览馆'],\n",
       "             '农业展览馆': ['亮马桥', '团结湖'],\n",
       "             '团结湖': ['农业展览馆', '呼家楼'],\n",
       "             '金台夕照': ['呼家楼', '国贸'],\n",
       "             '劲松': ['双井', '潘家园'],\n",
       "             '潘家园': ['劲松', '十里河'],\n",
       "             '十里河': ['潘家园', '分钟寺', '方庄', '南八里庄'],\n",
       "             '分钟寺': ['十里河', '成寿寺'],\n",
       "             '成寿寺': ['分钟寺', '宋家庄'],\n",
       "             '石榴庄': ['宋家庄', '大红门'],\n",
       "             '大红门': ['石榴庄', '角门东'],\n",
       "             '角门东': ['大红门', '角门西'],\n",
       "             '草桥': ['角门西', '纪家庙'],\n",
       "             '纪家庙': ['草桥', '首经贸'],\n",
       "             '首经贸': ['纪家庙', '丰台站'],\n",
       "             '丰台站': ['首经贸', '泥洼'],\n",
       "             '泥洼': ['丰台站', '西局'],\n",
       "             '西局': ['泥洼', '六里桥', '七里庄'],\n",
       "             '莲花桥': ['六里桥', '公主坟'],\n",
       "             '西钓鱼台': ['公主坟', '慈寿寺'],\n",
       "             '车道沟': ['慈寿寺', '长春桥'],\n",
       "             '长春桥': ['车道沟', '火器营'],\n",
       "             '火器营': ['长春桥', '巴沟'],\n",
       "             '大钟寺': ['西直门', '知春路'],\n",
       "             '五道口': ['知春路', '上地'],\n",
       "             '上地': ['五道口', '西二旗'],\n",
       "             '西二旗': ['上地', '龙泽', '生命科学园'],\n",
       "             '龙泽': ['西二旗', '回龙观'],\n",
       "             '回龙观': ['龙泽', '霍营'],\n",
       "             '北苑': ['立水桥', '望京西'],\n",
       "             '望京西': ['北苑', '芍药居', '关庄', '望京'],\n",
       "             '光熙门': ['芍药居', '柳芳'],\n",
       "             '柳芳': ['光熙门', '东直门'],\n",
       "             '张郭庄': ['园博园'],\n",
       "             '园博园': ['张郭庄', '大瓦窑'],\n",
       "             '大瓦窑': ['园博园', '郭庄子'],\n",
       "             '郭庄子': ['大瓦窑', '大井'],\n",
       "             '大井': ['郭庄子', '七里庄'],\n",
       "             '陶然桥': ['北京南站', '永定门外'],\n",
       "             '永定门外': ['陶然桥', '景泰'],\n",
       "             '景泰': ['永定门外', '蒲黄榆'],\n",
       "             '方庄': ['蒲黄榆', '十里河'],\n",
       "             '南八里庄': ['十里河', '北工大西门'],\n",
       "             '北工大西门': ['南八里庄', '平乐园'],\n",
       "             '平乐园': ['北工大西门', '九龙山'],\n",
       "             '红庙': ['大望路', '金台路'],\n",
       "             '朝阳公园': ['金台路', '枣营'],\n",
       "             '枣营': ['朝阳公园', '东风北桥'],\n",
       "             '东风北桥': ['枣营', '将台'],\n",
       "             '将台': ['东风北桥', '高家园'],\n",
       "             '高家园': ['将台', '望京南'],\n",
       "             '望京南': ['高家园', '阜通'],\n",
       "             '阜通': ['望京南', '望京'],\n",
       "             '望京': ['阜通', '东湖渠', '望京西', '望京东'],\n",
       "             '东湖渠': ['望京', '来广营'],\n",
       "             '来广营': ['东湖渠', '善各庄'],\n",
       "             '善各庄': ['来广营'],\n",
       "             '清华东路西口': ['六道口'],\n",
       "             '六道口': ['清华东路西口', '北沙滩'],\n",
       "             '北沙滩': ['六道口', '奥林匹克公园'],\n",
       "             '安立路': ['奥林匹克公园', '大屯路东'],\n",
       "             '关庄': ['大屯路东', '望京西'],\n",
       "             '望京东': ['望京', '崔各庄'],\n",
       "             '崔各庄': ['望京东', '马泉营'],\n",
       "             '马泉营': ['崔各庄', '孙河'],\n",
       "             '孙河': ['马泉营', '国展'],\n",
       "             '国展': ['孙河', '花梨坎'],\n",
       "             '花梨坎': ['国展', '后沙峪'],\n",
       "             '后沙峪': ['花梨坎', '南法信'],\n",
       "             '南法信': ['后沙峪', '石门'],\n",
       "             '石门': ['南法信', '顺义'],\n",
       "             '顺义': ['石门', '俸伯'],\n",
       "             '俸伯': ['顺义'],\n",
       "             '高碑店': ['四惠东', '传媒大学'],\n",
       "             '传媒大学': ['高碑店', '双桥'],\n",
       "             '双桥': ['传媒大学', '管庄'],\n",
       "             '管庄': ['双桥', '八里桥'],\n",
       "             '八里桥': ['管庄', '通州北苑'],\n",
       "             '通州北苑': ['八里桥', '果园'],\n",
       "             '果园': ['通州北苑', '九棵树'],\n",
       "             '九棵树': ['果园', '梨园'],\n",
       "             '梨园': ['九棵树', '临河里'],\n",
       "             '临河里': ['梨园', '土桥'],\n",
       "             '土桥': ['临河里'],\n",
       "             '昌平西山口': ['十三陵景区'],\n",
       "             '十三陵景区': ['昌平西山口', '昌平'],\n",
       "             '昌平': ['十三陵景区', '昌平东关'],\n",
       "             '昌平东关': ['昌平', '北邵洼'],\n",
       "             '北邵洼': ['昌平东关', '南邵'],\n",
       "             '南邵': ['北邵洼', '沙河高教园'],\n",
       "             '沙河高教园': ['南邵', '沙河'],\n",
       "             '沙河': ['沙河高教园', '巩华城'],\n",
       "             '巩华城': ['沙河', '朱辛庄'],\n",
       "             '生命科学园': ['朱辛庄', '西二旗'],\n",
       "             '肖村': ['宋家庄', '小红门'],\n",
       "             '小红门': ['肖村', '旧宫'],\n",
       "             '旧宫': ['小红门', '亦庄桥'],\n",
       "             '亦庄桥': ['旧宫', '亦庄文化园'],\n",
       "             '亦庄文化园': ['亦庄桥', '万源街'],\n",
       "             '万源街': ['亦庄文化园', '荣京东街'],\n",
       "             '荣京东街': ['万源街', '荣昌东街'],\n",
       "             '荣昌东街': ['荣京东街', '同济南路'],\n",
       "             '同济南路': ['荣昌东街', '经海路'],\n",
       "             '经海路': ['同济南路', '次渠南'],\n",
       "             '次渠南': ['经海路', '次渠'],\n",
       "             '次渠': ['次渠南'],\n",
       "             '新宫': ['公益西桥', '西红门'],\n",
       "             '西红门': ['新宫', '高米店北'],\n",
       "             '高米店北': ['西红门', '高米店南'],\n",
       "             '高米店南': ['高米店北', '枣园'],\n",
       "             '枣园': ['高米店南', '清源路'],\n",
       "             '清源路': ['枣园', '黄村西大街'],\n",
       "             '黄村西大街': ['清源路', '黄村火车站'],\n",
       "             '黄村火车站': ['黄村西大街', '义和庄'],\n",
       "             '义和庄': ['黄村火车站', '生物医药基地'],\n",
       "             '生物医药基地': ['义和庄', '天宫院'],\n",
       "             '天宫院': ['生物医药基地'],\n",
       "             '大葆台': ['郭公庄', '稻田'],\n",
       "             '稻田': ['大葆台', '长阳'],\n",
       "             '长阳': ['稻田', '篱笆房'],\n",
       "             '篱笆房': ['长阳', '广阳城'],\n",
       "             '广阳城': ['篱笆房', '良乡大学城北'],\n",
       "             '良乡大学城北': ['广阳城', '良乡大学城'],\n",
       "             '良乡大学城': ['良乡大学城北', '良乡大学城西'],\n",
       "             '良乡大学城西': ['良乡大学城', '良乡南关'],\n",
       "             '良乡南关': ['良乡大学城西', '苏庄'],\n",
       "             '苏庄': ['良乡南关'],\n",
       "             'T3航站楼': ['三元桥', 'T2航站楼'],\n",
       "             'T2航站楼': ['T3航站楼', '三元桥']})"
      ]
     },
     "execution_count": 27,
     "metadata": {},
     "output_type": "execute_result"
    }
   ],
   "source": [
    "station_connection=defaultdict(list)    #得到站点关系的字典    \n",
    "for path in path_lst:\n",
    "    station_connection[path.split('——')[0]].append(path.split('——')[1])\n",
    "    station_connection[path.split('——')[1]].append(path.split('——')[0])\n",
    "station_connection"
   ]
  },
  {
   "cell_type": "code",
   "execution_count": 28,
   "metadata": {},
   "outputs": [
    {
     "name": "stdout",
     "output_type": "stream",
     "text": [
      "dict_keys(['1号线', '2号线', '4号线', '5号线', '6号线', '7号线', '8号线', '9号线', '10号线', '13号线', '14号线', '15号线', '八通线', '昌平线', '亦庄线', '大兴线', '房山线', '机场线'])\n"
     ]
    }
   ],
   "source": [
    "station_line = defaultdict(list)  #每条线路包含的站点列表组成的字典  \n",
    "for line in lines:\n",
    "    line_name=line.find('td').text\n",
    "    line_name=re.match(r'([\\w\\d]+线)',line_name).group(1)\n",
    "    trs=line.find('tbody').find_all('tr')\n",
    "    #print(line_name)\n",
    "\n",
    "    for tr in trs:\n",
    "        station_line[line_name].append(tr.find(\"th\").text.split('——')[0])  #每条线路添加所有的站点\n",
    "    station_line[line_name].append(trs[-1].find(\"th\").text.split('——')[1])\n",
    "    \n",
    "print(station_line.keys())"
   ]
  },
  {
   "cell_type": "code",
   "execution_count": 29,
   "metadata": {},
   "outputs": [
    {
     "name": "stdout",
     "output_type": "stream",
     "text": [
      "dict_keys(['1号线', '2号线', '4号线', '5号线', '6号线', '7号线', '8号线', '9号线', '10号线', '13号线', '15号线', '八通线', '昌平线', '亦庄线', '大兴线', '房山线', '机场线', '14号线西段'])\n"
     ]
    }
   ],
   "source": [
    "##14号线有东西两段,需要作一些修改\n",
    "station_line['14号线西段']=station_line.pop('14号线')\n",
    "print(station_line.keys())"
   ]
  },
  {
   "cell_type": "code",
   "execution_count": 30,
   "metadata": {},
   "outputs": [
    {
     "name": "stdout",
     "output_type": "stream",
     "text": [
      "['北京南站——陶然桥', '陶然桥——永定门外', '永定门外——景泰', '景泰——蒲黄榆', '蒲黄榆——方庄', '方庄——十里河', '十里河——南八里庄', '南八里庄——北工大西门', '北工大西门——平乐园', '平乐园——九龙山', '九龙山——大望路', '大望路——红庙', '红庙——金台路', '金台路——朝阳公园', '朝阳公园——枣营', '枣营——东风北桥', '东风北桥——将台', '将台——高家园', '高家园——望京南', '望京南——阜通', '阜通——望京', '望京——东湖渠', '东湖渠——来广营', '来广营——善各庄']\n"
     ]
    },
    {
     "data": {
      "text/plain": [
       "25"
      ]
     },
     "execution_count": 30,
     "metadata": {},
     "output_type": "execute_result"
    }
   ],
   "source": [
    "station_line['14号线东段']=[]\n",
    "line14_tbodys=lines[10].find_all('tbody')     #添加14号线东段的信息\n",
    "line14_east=line14_tbodys[1].find_all('tr')\n",
    "line14_lst=[]\n",
    "for tr in line14_east:\n",
    "    line14_lst.append(tr.find(\"th\").text)\n",
    "\n",
    "print(line14_lst)\n",
    "\n",
    "for line14_east_station in line14_lst:\n",
    "    station_line['14号线东段'].append(line14_east_station.split('——')[0])\n",
    "station_line['14号线东段'].append(line14_east_station.split('——')[1])\n",
    "\n",
    "len(station_line['14号线东段'])"
   ]
  },
  {
   "cell_type": "code",
   "execution_count": 31,
   "metadata": {},
   "outputs": [
    {
     "name": "stderr",
     "output_type": "stream",
     "text": [
      "C:\\Users\\yuan-he\\Anaconda3\\lib\\site-packages\\networkx\\drawing\\nx_pylab.py:611: MatplotlibDeprecationWarning: isinstance(..., numbers.Number)\n",
      "  if cb.is_numlike(alpha):\n"
     ]
    },
    {
     "data": {
      "image/png": "[encoded data removed]",
      "text/plain": [
       "<Figure size 432x288 with 1 Axes>"
      ]
     },
     "metadata": {},
     "output_type": "display_data"
    }
   ],
   "source": [
    "stations=station_connection.keys()               #可视化站点连接信息\n",
    "station_graph = nx.Graph()\n",
    "station_graph.add_nodes_from(stations)\n",
    "nx.draw(nx.Graph(station_connection), node_size=10)"
   ]
  },
  {
   "cell_type": "markdown",
   "metadata": {},
   "source": [
    "## Build the search agent"
   ]
  },
  {
   "cell_type": "code",
   "execution_count": 32,
   "metadata": {},
   "outputs": [],
   "source": [
    "#Build the search agent\n",
    "def search(start,destination,connection_graph):\n",
    "    pathes=[[start]] #把所有的地铁站点放进一个嵌套列表\n",
    "    visited=set()\n",
    "    \n",
    "    n=0\n",
    "    while pathes: #只要还有路就继续扩展\n",
    "        path = pathes.pop(0)   #把最早见过地铁站拿出来(最早扩展的站节点最少),path是一个列表，代表一个路径\n",
    "        frontier = path[-1]   #frontier是这条路径最后一个站点\n",
    "        \n",
    "        if frontier in visited:continue    #如果遇到过这个站点，就跳过\n",
    "        successors=connection_graph[frontier]  #如果没有，就把他的关联地铁站点加进来\n",
    "        \n",
    "        \n",
    "        #print('第%i次while循环：path,fontier,successors'%n,path,frontier,successors)\n",
    "        for station in successors:\n",
    "            if station in path:continue #eliminate 重复路径\n",
    "            new_path = path + [station]   #new_path 是一个列表\n",
    "            pathes.append(new_path)    #pathes是一个路径列表嵌套列表 e.g.[['兰州', '西安', '郑州'], ['兰州', '西安', '长沙']]\n",
    "            \n",
    "            \n",
    "            if station == destination:return new_path\n",
    "        visited.add(frontier)\n",
    "        #print('第%i次循环after for loop,new_path,pathes，visited'%n,new_path,pathes,visited)\n",
    "        #print('-----')\n",
    "        \n",
    "        n=n+1"
   ]
  },
  {
   "cell_type": "code",
   "execution_count": 33,
   "metadata": {},
   "outputs": [],
   "source": [
    "def pretty_print(cities):\n",
    "    print('🚗->'.join(cities))"
   ]
  },
  {
   "cell_type": "code",
   "execution_count": 34,
   "metadata": {},
   "outputs": [
    {
     "name": "stdout",
     "output_type": "stream",
     "text": [
      "宣武门🚗->菜市口🚗->虎坊桥🚗->珠市口🚗->桥湾\n"
     ]
    }
   ],
   "source": [
    "pretty_print(search('宣武门','桥湾',station_connection))"
   ]
  },
  {
   "cell_type": "markdown",
   "metadata": {},
   "source": [
    "## （Optional）Create different policies for transfer system."
   ]
  },
  {
   "cell_type": "markdown",
   "metadata": {},
   "source": [
    "以下部门为可选部分，请酌情完成。 并不要求全部同学完成。"
   ]
  },
  {
   "cell_type": "markdown",
   "metadata": {},
   "source": [
    "As much as you can to use the already implemented search agent. You just need to define the **is_goal()**, **get_successor()**, **strategy()** three functions. \n",
    "\n",
    "> a.\tDefine different policies for transfer system. \n",
    "\n",
    "> b.\tSuch as Shortest Path Priority（路程最短优先）, Minimum Transfer Priority(最少换乘优先), Comprehensive Priority(综合优先)\n",
    "\n",
    "> c.\tImplement Continuous transfer. Based on the Agent you implemented, please add this feature: Besides the @param start and @param destination two stations, add some more stations, we called @param by_way, it means, our path should from the start and end, but also include the  @param by_way stations. \n",
    "\n",
    "e.g \n",
    "```\n",
    "1. Input:  start=A,  destination=B, by_way=[C] \n",
    "    Output: [A, … .., C, …. B]\n",
    "2. Input: start=A, destination=B, by_way=[C, D, E]\n",
    "    Output: [A … C … E … D … B]  \n",
    "    # based on your policy, the E station could be reached firstly. \n",
    "![image.png](attachment:image.png)\n",
    "```"
   ]
  },
  {
   "cell_type": "markdown",
   "metadata": {},
   "source": [
    "## Define different policies for transfer system"
   ]
  },
  {
   "cell_type": "code",
   "execution_count": 35,
   "metadata": {},
   "outputs": [
    {
     "data": {
      "text/plain": [
       "defaultdict(list,\n",
       "            {'苹果园': ['1号线'],\n",
       "             '古城': ['1号线'],\n",
       "             '八角游乐园': ['1号线'],\n",
       "             '八宝山': ['1号线'],\n",
       "             '玉泉路': ['1号线'],\n",
       "             '五棵松': ['1号线'],\n",
       "             '万寿路': ['1号线'],\n",
       "             '公主坟': ['1号线', '10号线'],\n",
       "             '军事博物馆': ['1号线', '9号线'],\n",
       "             '木樨地': ['1号线'],\n",
       "             '南礼士路': ['1号线'],\n",
       "             '复兴门': ['1号线', '2号线'],\n",
       "             '西单': ['1号线', '4号线'],\n",
       "             '天安门西': ['1号线'],\n",
       "             '天安门东': ['1号线'],\n",
       "             '王府井': ['1号线'],\n",
       "             '东单': ['1号线', '5号线'],\n",
       "             '建国门': ['1号线', '2号线'],\n",
       "             '永安里': ['1号线'],\n",
       "             '国贸': ['1号线', '10号线'],\n",
       "             '大望路': ['1号线', '14号线东段'],\n",
       "             '四惠': ['1号线', '八通线'],\n",
       "             '四惠东': ['1号线', '八通线'],\n",
       "             '西直门': ['2号线', '2号线', '4号线', '13号线'],\n",
       "             '车公庄': ['2号线', '6号线'],\n",
       "             '阜成门': ['2号线'],\n",
       "             '长椿街': ['2号线'],\n",
       "             '宣武门': ['2号线', '4号线'],\n",
       "             '和平门': ['2号线'],\n",
       "             '前门': ['2号线'],\n",
       "             '崇文门': ['2号线', '5号线'],\n",
       "             '北京站': ['2号线'],\n",
       "             '朝阳门': ['2号线', '6号线'],\n",
       "             '东四十条': ['2号线'],\n",
       "             '东直门': ['2号线', '13号线', '机场线'],\n",
       "             '雍和宫': ['2号线', '5号线'],\n",
       "             '安定门': ['2号线'],\n",
       "             '鼓楼大街': ['2号线', '8号线'],\n",
       "             '积水潭': ['2号线'],\n",
       "             '安河桥北': ['4号线'],\n",
       "             '北宫门': ['4号线'],\n",
       "             '西苑': ['4号线'],\n",
       "             '圆明园': ['4号线'],\n",
       "             '北京大学东门': ['4号线'],\n",
       "             '中关村': ['4号线'],\n",
       "             '海淀黄庄': ['4号线', '10号线'],\n",
       "             '人民大学': ['4号线'],\n",
       "             '魏公村': ['4号线'],\n",
       "             '国家图书馆': ['4号线', '9号线'],\n",
       "             '动物园': ['4号线'],\n",
       "             '新街口': ['4号线'],\n",
       "             '平安里': ['4号线', '6号线'],\n",
       "             '西四': ['4号线'],\n",
       "             '灵境胡同': ['4号线'],\n",
       "             '菜市口': ['4号线', '7号线'],\n",
       "             '陶然亭': ['4号线'],\n",
       "             '北京南站': ['4号线', '14号线东段'],\n",
       "             '马家堡': ['4号线'],\n",
       "             '角门西': ['4号线', '10号线'],\n",
       "             '公益西桥': ['4号线', '大兴线'],\n",
       "             '天通苑北': ['5号线'],\n",
       "             '天通苑': ['5号线'],\n",
       "             '天通苑南': ['5号线'],\n",
       "             '立水桥': ['5号线', '13号线'],\n",
       "             '立水桥南': ['5号线'],\n",
       "             '北苑路北': ['5号线'],\n",
       "             '大屯路东': ['5号线', '15号线'],\n",
       "             '惠新西街北口': ['5号线'],\n",
       "             '惠新西街南口': ['5号线', '10号线'],\n",
       "             '和平西桥': ['5号线'],\n",
       "             '和平里北街': ['5号线'],\n",
       "             '北新桥': ['5号线'],\n",
       "             '张自忠路': ['5号线'],\n",
       "             '东四': ['5号线', '6号线'],\n",
       "             '灯市口': ['5号线'],\n",
       "             '磁器口': ['5号线', '7号线'],\n",
       "             '天坛东门': ['5号线'],\n",
       "             '蒲黄榆': ['5号线', '14号线东段'],\n",
       "             '刘家窑': ['5号线'],\n",
       "             '宋家庄': ['5号线', '10号线', '亦庄线'],\n",
       "             '海淀五路居': ['6号线'],\n",
       "             '慈寿寺': ['6号线', '10号线'],\n",
       "             '花园桥': ['6号线'],\n",
       "             '白石桥南': ['6号线', '9号线'],\n",
       "             '车公庄西': ['6号线'],\n",
       "             '北海北': ['6号线'],\n",
       "             '南锣鼓巷': ['6号线', '8号线'],\n",
       "             '东大桥': ['6号线'],\n",
       "             '呼家楼': ['6号线', '10号线'],\n",
       "             '金台路': ['6号线', '14号线东段'],\n",
       "             '十里堡': ['6号线'],\n",
       "             '青年路': ['6号线'],\n",
       "             '褡裢坡': ['6号线'],\n",
       "             '黄渠': ['6号线'],\n",
       "             '常营': ['6号线'],\n",
       "             '草房': ['6号线'],\n",
       "             '物资学院路': ['6号线'],\n",
       "             '通州北关': ['6号线'],\n",
       "             '通运门': ['6号线'],\n",
       "             '北运河西': ['6号线'],\n",
       "             '北运河东': ['6号线'],\n",
       "             '郝家府': ['6号线'],\n",
       "             '东夏园': ['6号线'],\n",
       "             '潞城': ['6号线'],\n",
       "             '北京西站': ['7号线', '9号线'],\n",
       "             '湾子': ['7号线'],\n",
       "             '达官营': ['7号线'],\n",
       "             '广安门内': ['7号线'],\n",
       "             '虎坊桥': ['7号线'],\n",
       "             '珠市口': ['7号线'],\n",
       "             '桥湾': ['7号线'],\n",
       "             '广渠门内': ['7号线'],\n",
       "             '广渠门外': ['7号线'],\n",
       "             '双井': ['7号线', '10号线'],\n",
       "             '九龙山': ['7号线', '14号线东段'],\n",
       "             '大郊亭': ['7号线'],\n",
       "             '百子湾': ['7号线'],\n",
       "             '化工': ['7号线'],\n",
       "             '南楼梓庄': ['7号线'],\n",
       "             '欢乐谷景区': ['7号线'],\n",
       "             '垡头': ['7号线'],\n",
       "             '双合': ['7号线'],\n",
       "             '焦化厂': ['7号线'],\n",
       "             '朱辛庄': ['8号线', '昌平线'],\n",
       "             '育知路': ['8号线'],\n",
       "             '平西府': ['8号线'],\n",
       "             '回龙观东大街': ['8号线'],\n",
       "             '霍营': ['8号线', '13号线'],\n",
       "             '育新': ['8号线'],\n",
       "             '西小口': ['8号线'],\n",
       "             '永泰庄': ['8号线'],\n",
       "             '林萃桥': ['8号线'],\n",
       "             '森林公园南门': ['8号线'],\n",
       "             '奥林匹克公园': ['8号线', '15号线'],\n",
       "             '奥体中心': ['8号线'],\n",
       "             '北土城': ['8号线', '10号线'],\n",
       "             '安华桥': ['8号线'],\n",
       "             '安德里北街': ['8号线'],\n",
       "             '什刹海': ['8号线'],\n",
       "             '白堆子': ['9号线'],\n",
       "             '六里桥东': ['9号线'],\n",
       "             '六里桥': ['9号线', '10号线'],\n",
       "             '七里庄': ['9号线', '14号线西段'],\n",
       "             '丰台东大街': ['9号线'],\n",
       "             '丰台南路': ['9号线'],\n",
       "             '科怡路': ['9号线'],\n",
       "             '丰台科技园': ['9号线'],\n",
       "             '郭公庄': ['9号线', '房山线'],\n",
       "             '巴沟': ['10号线', '10号线'],\n",
       "             '苏州街': ['10号线'],\n",
       "             '知春里': ['10号线'],\n",
       "             '知春路': ['10号线', '13号线'],\n",
       "             '西土城': ['10号线'],\n",
       "             '牡丹园': ['10号线'],\n",
       "             '健德门': ['10号线'],\n",
       "             '安贞门': ['10号线'],\n",
       "             '芍药居': ['10号线', '13号线'],\n",
       "             '太阳宫': ['10号线'],\n",
       "             '三元桥': ['10号线', '机场线', '机场线'],\n",
       "             '亮马桥': ['10号线'],\n",
       "             '农业展览馆': ['10号线'],\n",
       "             '团结湖': ['10号线'],\n",
       "             '金台夕照': ['10号线'],\n",
       "             '劲松': ['10号线'],\n",
       "             '潘家园': ['10号线'],\n",
       "             '十里河': ['10号线', '14号线东段'],\n",
       "             '分钟寺': ['10号线'],\n",
       "             '成寿寺': ['10号线'],\n",
       "             '石榴庄': ['10号线'],\n",
       "             '大红门': ['10号线'],\n",
       "             '角门东': ['10号线'],\n",
       "             '草桥': ['10号线'],\n",
       "             '纪家庙': ['10号线'],\n",
       "             '首经贸': ['10号线'],\n",
       "             '丰台站': ['10号线'],\n",
       "             '泥洼': ['10号线'],\n",
       "             '西局': ['10号线', '14号线西段'],\n",
       "             '莲花桥': ['10号线'],\n",
       "             '西钓鱼台': ['10号线'],\n",
       "             '车道沟': ['10号线'],\n",
       "             '长春桥': ['10号线'],\n",
       "             '火器营': ['10号线'],\n",
       "             '大钟寺': ['13号线'],\n",
       "             '五道口': ['13号线'],\n",
       "             '上地': ['13号线'],\n",
       "             '西二旗': ['13号线', '昌平线'],\n",
       "             '龙泽': ['13号线'],\n",
       "             '回龙观': ['13号线'],\n",
       "             '北苑': ['13号线'],\n",
       "             '望京西': ['13号线', '15号线'],\n",
       "             '光熙门': ['13号线'],\n",
       "             '柳芳': ['13号线'],\n",
       "             '清华东路西口': ['15号线'],\n",
       "             '六道口': ['15号线'],\n",
       "             '北沙滩': ['15号线'],\n",
       "             '安立路': ['15号线'],\n",
       "             '关庄': ['15号线'],\n",
       "             '望京': ['15号线', '14号线东段'],\n",
       "             '望京东': ['15号线'],\n",
       "             '崔各庄': ['15号线'],\n",
       "             '马泉营': ['15号线'],\n",
       "             '孙河': ['15号线'],\n",
       "             '国展': ['15号线'],\n",
       "             '花梨坎': ['15号线'],\n",
       "             '后沙峪': ['15号线'],\n",
       "             '南法信': ['15号线'],\n",
       "             '石门': ['15号线'],\n",
       "             '顺义': ['15号线'],\n",
       "             '俸伯': ['15号线'],\n",
       "             '高碑店': ['八通线'],\n",
       "             '传媒大学': ['八通线'],\n",
       "             '双桥': ['八通线'],\n",
       "             '管庄': ['八通线'],\n",
       "             '八里桥': ['八通线'],\n",
       "             '通州北苑': ['八通线'],\n",
       "             '果园': ['八通线'],\n",
       "             '九棵树': ['八通线'],\n",
       "             '梨园': ['八通线'],\n",
       "             '临河里': ['八通线'],\n",
       "             '土桥': ['八通线'],\n",
       "             '昌平西山口': ['昌平线'],\n",
       "             '十三陵景区': ['昌平线'],\n",
       "             '昌平': ['昌平线'],\n",
       "             '昌平东关': ['昌平线'],\n",
       "             '北邵洼': ['昌平线'],\n",
       "             '南邵': ['昌平线'],\n",
       "             '沙河高教园': ['昌平线'],\n",
       "             '沙河': ['昌平线'],\n",
       "             '巩华城': ['昌平线'],\n",
       "             '生命科学园': ['昌平线'],\n",
       "             '肖村': ['亦庄线'],\n",
       "             '小红门': ['亦庄线'],\n",
       "             '旧宫': ['亦庄线'],\n",
       "             '亦庄桥': ['亦庄线'],\n",
       "             '亦庄文化园': ['亦庄线'],\n",
       "             '万源街': ['亦庄线'],\n",
       "             '荣京东街': ['亦庄线'],\n",
       "             '荣昌东街': ['亦庄线'],\n",
       "             '同济南路': ['亦庄线'],\n",
       "             '经海路': ['亦庄线'],\n",
       "             '次渠南': ['亦庄线'],\n",
       "             '次渠': ['亦庄线'],\n",
       "             '新宫': ['大兴线'],\n",
       "             '西红门': ['大兴线'],\n",
       "             '高米店北': ['大兴线'],\n",
       "             '高米店南': ['大兴线'],\n",
       "             '枣园': ['大兴线'],\n",
       "             '清源路': ['大兴线'],\n",
       "             '黄村西大街': ['大兴线'],\n",
       "             '黄村火车站': ['大兴线'],\n",
       "             '义和庄': ['大兴线'],\n",
       "             '生物医药基地': ['大兴线'],\n",
       "             '天宫院': ['大兴线'],\n",
       "             '大葆台': ['房山线'],\n",
       "             '稻田': ['房山线'],\n",
       "             '长阳': ['房山线'],\n",
       "             '篱笆房': ['房山线'],\n",
       "             '广阳城': ['房山线'],\n",
       "             '良乡大学城北': ['房山线'],\n",
       "             '良乡大学城': ['房山线'],\n",
       "             '良乡大学城西': ['房山线'],\n",
       "             '良乡南关': ['房山线'],\n",
       "             '苏庄': ['房山线'],\n",
       "             'T3航站楼': ['机场线'],\n",
       "             'T2航站楼': ['机场线'],\n",
       "             '张郭庄': ['14号线西段'],\n",
       "             '园博园': ['14号线西段'],\n",
       "             '大瓦窑': ['14号线西段'],\n",
       "             '郭庄子': ['14号线西段'],\n",
       "             '大井': ['14号线西段'],\n",
       "             '陶然桥': ['14号线东段'],\n",
       "             '永定门外': ['14号线东段'],\n",
       "             '景泰': ['14号线东段'],\n",
       "             '方庄': ['14号线东段'],\n",
       "             '南八里庄': ['14号线东段'],\n",
       "             '北工大西门': ['14号线东段'],\n",
       "             '平乐园': ['14号线东段'],\n",
       "             '红庙': ['14号线东段'],\n",
       "             '朝阳公园': ['14号线东段'],\n",
       "             '枣营': ['14号线东段'],\n",
       "             '东风北桥': ['14号线东段'],\n",
       "             '将台': ['14号线东段'],\n",
       "             '高家园': ['14号线东段'],\n",
       "             '望京南': ['14号线东段'],\n",
       "             '阜通': ['14号线东段'],\n",
       "             '东湖渠': ['14号线东段'],\n",
       "             '来广营': ['14号线东段'],\n",
       "             '善各庄': ['14号线东段']})"
      ]
     },
     "execution_count": 35,
     "metadata": {},
     "output_type": "execute_result"
    }
   ],
   "source": [
    "#Define different policies for transfer system\n",
    "station_line_info=defaultdict(list)   #站点所在线路的字典\n",
    "for line, stations in station_line.items():\n",
    "    for station in stations:\n",
    "        station_line_info[station].append(line)\n",
    "station_line_info"
   ]
  },
  {
   "cell_type": "code",
   "execution_count": 36,
   "metadata": {},
   "outputs": [],
   "source": [
    "def get_transfer_counts(path):     #计算转线次数\n",
    "    count=0\n",
    "    pre_line=station_line_info[path[0]]     #initialize previous station\n",
    "    #print(pre_line)\n",
    "    \n",
    "    for i in range(1,len(path)): #compare line with previous line\n",
    "        if all (line not in pre_line for line in station_line_info[path[i]]): \n",
    "            count+=1  #遍历当前车站所在线路，若所有可能线路都不存在pre-sta中，则必须换线\n",
    "            pre_line=station_line_info[path[i]] #更新前一站的线路列表为当前车站所在线路\n",
    "        else:\n",
    "             pre_line=list(set(station_line_info[path[i]]) & set(pre_line))  #仅更新列表为当前站和上一次的交集   \n",
    "        #print(pre_line)\n",
    "    #print(count)\n",
    "    return count"
   ]
  },
  {
   "cell_type": "code",
   "execution_count": 146,
   "metadata": {},
   "outputs": [
    {
     "data": {
      "text/plain": [
       "0"
      ]
     },
     "execution_count": 146,
     "metadata": {},
     "output_type": "execute_result"
    }
   ],
   "source": [
    "get_transfer_counts(['建国门','永安里','国贸','大望路','四惠','四惠东'])"
   ]
  },
  {
   "cell_type": "code",
   "execution_count": 37,
   "metadata": {},
   "outputs": [
    {
     "data": {
      "text/plain": [
       "3557"
      ]
     },
     "execution_count": 37,
     "metadata": {},
     "output_type": "execute_result"
    }
   ],
   "source": [
    "def get_path_distance(path):  #计算距离\n",
    "    distance = 0\n",
    "    for i in range(1,len(path)):\n",
    "        distance += int(dis_dic[path[i-1]+'——'+path[i]])\n",
    "    #print(distance)        \n",
    "    return distance\n",
    "\n",
    "get_path_distance(['复兴门','西单','宣武门','菜市口'])"
   ]
  },
  {
   "cell_type": "code",
   "execution_count": 38,
   "metadata": {},
   "outputs": [],
   "source": [
    "def Comprehensive_order(path):   #综合考量，时速按35KM/H，每次换乘+8分钟考虑，(综合优先)\n",
    "    time_for_travel=get_path_distance(path)/35/1000*60  #time in minutes\n",
    "    time_for_interchange=get_transfer_counts(path)*8    #time in minutes\n",
    "    #print(str(time_for_travel+time_for_interchange) + 'mins')\n",
    "    return time_for_travel+time_for_interchange"
   ]
  },
  {
   "cell_type": "code",
   "execution_count": 39,
   "metadata": {},
   "outputs": [],
   "source": [
    "def search_with_strategy(start, destination, connection_grpah, strategy):   #们可以加一个排序函数 对我们的搜索策略进行控制\n",
    "    pathes = [[start]]\n",
    "    complete_pathes=[]\n",
    "    visited = set()\n",
    "    \n",
    "    while pathes: # if we find existing pathes\n",
    "        path = pathes.pop(0)\n",
    "        froninter = path[-1]\n",
    "        \n",
    "        if froninter in visited: continue\n",
    "            \n",
    "        successors = connection_grpah[froninter]\n",
    "        #print('1',successors)\n",
    "        for city in successors:\n",
    "            if city in path: continue  # eliminate loop\n",
    "                \n",
    "            new_path = path + [city]\n",
    "            \n",
    "            pathes.append(new_path)\n",
    "            \n",
    "            if city == destination: \n",
    "                complete_pathes.append(new_path)\n",
    "                #print(new_path)\n",
    "        #print('2',pathes)\n",
    "        visited.add(froninter)\n",
    "        #print('3',visited)\n",
    "        #print('4',complete_pathes)\n",
    "    complete_pathes.sort(key=strategy)\n",
    "    print(complete_pathes)\n",
    "    return complete_pathes[0]"
   ]
  },
  {
   "cell_type": "code",
   "execution_count": 40,
   "metadata": {},
   "outputs": [
    {
     "name": "stdout",
     "output_type": "stream",
     "text": [
      "[['六里桥', '西局', '泥洼', '丰台站', '首经贸', '纪家庙', '草桥', '角门西', '角门东', '大红门', '石榴庄', '宋家庄', '成寿寺', '分钟寺', '十里河'], ['六里桥', '六里桥东', '北京西站', '湾子', '达官营', '广安门内', '菜市口', '陶然亭', '北京南站', '陶然桥', '永定门外', '景泰', '蒲黄榆', '方庄', '十里河']]\n",
      "六里桥🚗->西局🚗->泥洼🚗->丰台站🚗->首经贸🚗->纪家庙🚗->草桥🚗->角门西🚗->角门东🚗->大红门🚗->石榴庄🚗->宋家庄🚗->成寿寺🚗->分钟寺🚗->十里河\n"
     ]
    }
   ],
   "source": [
    "# Minimum Transfer Priority(最少换乘优先)\n",
    "#print(len((search_with_strategy('西局','劲松',station_connection,get_transfer_counts))))\n",
    "pretty_print(search_with_strategy('六里桥','十里河',station_connection,get_transfer_counts))"
   ]
  },
  {
   "cell_type": "code",
   "execution_count": 41,
   "metadata": {},
   "outputs": [
    {
     "name": "stdout",
     "output_type": "stream",
     "text": [
      "[['六里桥', '六里桥东', '北京西站', '湾子', '达官营', '广安门内', '菜市口', '陶然亭', '北京南站', '陶然桥', '永定门外', '景泰', '蒲黄榆', '方庄', '十里河'], ['六里桥', '西局', '泥洼', '丰台站', '首经贸', '纪家庙', '草桥', '角门西', '角门东', '大红门', '石榴庄', '宋家庄', '成寿寺', '分钟寺', '十里河']]\n",
      "六里桥🚗->六里桥东🚗->北京西站🚗->湾子🚗->达官营🚗->广安门内🚗->菜市口🚗->陶然亭🚗->北京南站🚗->陶然桥🚗->永定门外🚗->景泰🚗->蒲黄榆🚗->方庄🚗->十里河\n"
     ]
    }
   ],
   "source": [
    "#Shortest Path Priority（路程最短优先）\n",
    "#print(len(search_with_strategy('西局','劲松',station_connection, get_path_distance)))\n",
    "pretty_print(search_with_strategy('六里桥','十里河',station_connection, get_path_distance))"
   ]
  },
  {
   "cell_type": "code",
   "execution_count": 42,
   "metadata": {},
   "outputs": [
    {
     "name": "stdout",
     "output_type": "stream",
     "text": [
      "[['六里桥', '西局', '泥洼', '丰台站', '首经贸', '纪家庙', '草桥', '角门西', '角门东', '大红门', '石榴庄', '宋家庄', '成寿寺', '分钟寺', '十里河'], ['六里桥', '六里桥东', '北京西站', '湾子', '达官营', '广安门内', '菜市口', '陶然亭', '北京南站', '陶然桥', '永定门外', '景泰', '蒲黄榆', '方庄', '十里河']]\n",
      "六里桥🚗->西局🚗->泥洼🚗->丰台站🚗->首经贸🚗->纪家庙🚗->草桥🚗->角门西🚗->角门东🚗->大红门🚗->石榴庄🚗->宋家庄🚗->成寿寺🚗->分钟寺🚗->十里河\n"
     ]
    }
   ],
   "source": [
    "#Comprehensive Priority(综合优先)\n",
    "pretty_print(search_with_strategy('六里桥','十里河',station_connection, Comprehensive_order))"
   ]
  },
  {
   "cell_type": "markdown",
   "metadata": {},
   "source": [
    "## Implement Continuous transfer."
   ]
  },
  {
   "cell_type": "code",
   "execution_count": 43,
   "metadata": {},
   "outputs": [],
   "source": [
    "def search_with_byway(start, destination, connection_graph, by_way):   \n",
    "    sub_route=[]\n",
    "    while by_way:\n",
    "        begin=search(start,by_way[0],connection_graph)\n",
    "        #print(begin)\n",
    "        if len(by_way)>1:end=search(by_way[0],by_way[1],connection_graph)\n",
    "        else:end=search(by_way[0],destination,connection_graph)\n",
    "        #print(end)\n",
    "        #print(begin+end[1:])\n",
    "        sub_route.extend(begin+end[1:])\n",
    "        by_way.pop(0)\n",
    "    return sub_route"
   ]
  },
  {
   "cell_type": "code",
   "execution_count": 156,
   "metadata": {},
   "outputs": [
    {
     "name": "stdout",
     "output_type": "stream",
     "text": [
      "六里桥🚗->六里桥东🚗->北京西站🚗->湾子🚗->达官营🚗->广安门内🚗->菜市口🚗->陶然亭🚗->北京南站🚗->陶然亭🚗->菜市口🚗->虎坊桥🚗->珠市口🚗->桥湾🚗->磁器口🚗->六里桥🚗->六里桥东🚗->北京西站🚗->湾子🚗->达官营🚗->广安门内🚗->菜市口🚗->虎坊桥🚗->珠市口🚗->桥湾🚗->磁器口🚗->天坛东门🚗->蒲黄榆🚗->方庄🚗->十里河\n"
     ]
    }
   ],
   "source": [
    "pretty_print(search_with_byway('六里桥','十里河',station_connection, ['北京南站','磁器口']))"
   ]
  },
  {
   "cell_type": "code",
   "execution_count": 44,
   "metadata": {},
   "outputs": [
    {
     "data": {
      "text/plain": [
       "30"
      ]
     },
     "execution_count": 44,
     "metadata": {},
     "output_type": "execute_result"
    }
   ],
   "source": [
    "len(search_with_byway('六里桥','十里河',station_connection, ['北京南站','磁器口']))"
   ]
  },
  {
   "cell_type": "markdown",
   "metadata": {},
   "source": [
    "##### 5.\tTest your result with commercial applications. \n",
    "\n",
    "将你的结果和高德地图或者百度地图进行比较，如果有不同，请分析原因\n"
   ]
  },
  {
   "cell_type": "markdown",
   "metadata": {},
   "source": [
    "恭喜，完成本次课程，你对常用的人工智能方法以及有一定的了解了。基于规则的，基于概率模型的，基于搜索的，基于机器学习的。 可以说，我们现在通常见到的方法都能够归属到这几类方法中。 这就是**人工智能**，并没有很难是吧？ 继续加油！"
   ]
  },
  {
   "cell_type": "markdown",
   "metadata": {},
   "source": [
    "## 和高德地图进行分析比较\n",
    "    1. 高德地图坐公交没有 *by_way*的选项，无法直观比较。自己在做by_way的时候，确实是智商不够了，时间也不够了，简化的比较厉害，直接用的BFS的模型，然后将路径进行叠加，应该不是最优的解法。但是考虑实际情况中需要导航时，一般会增加合理的中途点，应该还是可以得到合理的结果。\n",
    "    2. 由于北京地铁官网没有8号线南段的信息，已经部分站点临时关闭（如双井），结果和高德地图不完全一样。"
   ]
  },
  {
   "cell_type": "markdown",
   "metadata": {},
   "source": [
    "## 一些其他问题\n",
    "1. 另外由于爬虫技巧不熟，不会爬动态网址（暂时也确实没时间学），所以没去同学推荐的'http://map.amap.com/subway/index.html?1100' 爬每个站点的坐标，偷懒直接用的官网的距离相加算距离。由于正则也不熟，所以本篇代码正则也用的有点少,以后有机会一定多练习，如果老师能简单讲一下正则就更好了。\n",
    "2. 路线规划的部分，有一点疑惑，理论上从A点到B点(比如从车公庄西到车公庄，只有一站)，最优解肯定是车公庄西-车公庄，但是如果我非要绕路的话，['车公庄西','白石桥南','国家图书馆','动物园','西直门','车公庄']也应该在我的complete_pathes的列表中备选，但是实际运行，好像只生成了['车公庄西', '车公庄']这一条路，为什么呢？"
   ]
  },
  {
   "cell_type": "code",
   "execution_count": 46,
   "metadata": {},
   "outputs": [
    {
     "name": "stdout",
     "output_type": "stream",
     "text": [
      "[['车公庄西', '车公庄']]\n",
      "车公庄西🚗->车公庄\n"
     ]
    }
   ],
   "source": [
    "pretty_print(search_with_strategy('车公庄西','车公庄',station_connection,get_transfer_counts))"
   ]
  },
  {
   "cell_type": "markdown",
   "metadata": {},
   "source": [
    "![](https://timgsa.baidu.com/timg?image&quality=80&size=b9999_10000&sec=1562415163815&di=4b29a2a863a8285212033760f288ed7a&imgtype=0&src=http%3A%2F%2F5b0988e595225.cdn.sohucs.com%2Fimages%2F20180710%2F8704194a1d7f46a383ddc29d40c9bca5.jpeg)"
   ]
  }
 ],
 "metadata": {
  "kernelspec": {
   "display_name": "Python 3",
   "language": "python",
   "name": "python3"
  },
  "language_info": {
   "codemirror_mode": {
    "name": "ipython",
    "version": 3
   },
   "file_extension": ".py",
   "mimetype": "text/x-python",
   "name": "python",
   "nbconvert_exporter": "python",
   "pygments_lexer": "ipython3",
   "version": "3.7.3"
  }
 },
 "nbformat": 4,
 "nbformat_minor": 2
}
