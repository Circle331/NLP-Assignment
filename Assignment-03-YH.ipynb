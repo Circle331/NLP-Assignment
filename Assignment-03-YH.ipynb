{
 "cells": [
  {
   "cell_type": "markdown",
   "metadata": {},
   "source": [
    "## Lecture-03 Gradient Descent and Dymanic Programming"
   ]
  },
  {
   "cell_type": "markdown",
   "metadata": {},
   "source": [
    "In this week, we need complete following tasks:\n",
    "+ Re-review the course online programming; \n",
    "+ Choose 1 - 2 books which you interested and keep reading; \n",
    "+ Answer the review questions\n",
    "+ Prepare the basic requirement of our 1st project. "
   ]
  },
  {
   "cell_type": "markdown",
   "metadata": {},
   "source": [
    "### Part I Review the online programming. "
   ]
  },
  {
   "cell_type": "markdown",
   "metadata": {},
   "source": [
    "#### learning dynamic programming by max splitting problem"
   ]
  },
  {
   "cell_type": "code",
   "execution_count": 1,
   "metadata": {},
   "outputs": [],
   "source": [
    "original_price = [1, 5, 8, 9, 10, 17, 17, 20, 24, 30, 35]"
   ]
  },
  {
   "cell_type": "code",
   "execution_count": 2,
   "metadata": {},
   "outputs": [],
   "source": [
    "from collections import defaultdict"
   ]
  },
  {
   "cell_type": "code",
   "execution_count": 3,
   "metadata": {},
   "outputs": [
    {
     "data": {
      "text/plain": [
       "30"
      ]
     },
     "execution_count": 3,
     "metadata": {},
     "output_type": "execute_result"
    }
   ],
   "source": [
    "price = defaultdict(int)  #生成一个长度和价格的对应关系的字典\n",
    "for i,p in enumerate(original_price):\n",
    "    price[i+1]=p\n",
    "price[10]"
   ]
  },
  {
   "cell_type": "markdown",
   "metadata": {},
   "source": [
    "Define the function for maxsplit problem"
   ]
  },
  {
   "cell_type": "markdown",
   "metadata": {},
   "source": [
    "$$r_n=max(p_n,r_1+r_{n-1},r_2+r_{n-2},....,r_{n-1}+r_1)$$"
   ]
  },
  {
   "cell_type": "code",
   "execution_count": 4,
   "metadata": {},
   "outputs": [
    {
     "data": {
      "text/plain": [
       "40"
      ]
     },
     "execution_count": 4,
     "metadata": {},
     "output_type": "execute_result"
    }
   ],
   "source": [
    "def r1(n):\n",
    "    return max([price[n]]+[r1(n-i)+r1(i) for i in range(1,n)])\n",
    "r1(13)"
   ]
  },
  {
   "cell_type": "code",
   "execution_count": 5,
   "metadata": {},
   "outputs": [],
   "source": [
    "called_time=defaultdict(int)   #建立字典观察每个函数被call的次数\n",
    "def get_call_times_1(f):\n",
    "    result=f()\n",
    "    print('function:{} called once!'.format(f.__name__))\n",
    "    called_time[f.__name__] +=1\n",
    "    return result"
   ]
  },
  {
   "cell_type": "code",
   "execution_count": 6,
   "metadata": {},
   "outputs": [],
   "source": [
    "def some_funcion_1(): print('I am function 1')"
   ]
  },
  {
   "cell_type": "code",
   "execution_count": 7,
   "metadata": {},
   "outputs": [
    {
     "name": "stdout",
     "output_type": "stream",
     "text": [
      "I am function 1\n",
      "function:some_funcion_1 called once!\n"
     ]
    }
   ],
   "source": [
    "get_call_times_1(some_funcion_1)        #简单展示get_call_times(f)的作用"
   ]
  },
  {
   "cell_type": "code",
   "execution_count": 8,
   "metadata": {},
   "outputs": [
    {
     "data": {
      "text/plain": [
       "defaultdict(int, {'some_funcion_1': 1})"
      ]
     },
     "execution_count": 8,
     "metadata": {},
     "output_type": "execute_result"
    }
   ],
   "source": [
    "called_time"
   ]
  },
  {
   "cell_type": "code",
   "execution_count": 9,
   "metadata": {},
   "outputs": [],
   "source": [
    "call_time_with_arg1 = defaultdict(int)"
   ]
  },
  {
   "cell_type": "code",
   "execution_count": 10,
   "metadata": {},
   "outputs": [
    {
     "data": {
      "text/plain": [
       "22"
      ]
     },
     "execution_count": 10,
     "metadata": {},
     "output_type": "execute_result"
    }
   ],
   "source": [
    "def r2(n):   #重新定义max revenue,加上临时观察calltime的功能\n",
    "    fname=r2.__name__\n",
    "    call_time_with_arg1[(fname,n)]+=1\n",
    "    return max([price[n]]+[r2(n-i)+r2(i) for i in range(1,n)])\n",
    "r2(8)"
   ]
  },
  {
   "cell_type": "code",
   "execution_count": 11,
   "metadata": {},
   "outputs": [
    {
     "data": {
      "text/plain": [
       "defaultdict(int,\n",
       "            {('r2', 8): 1,\n",
       "             ('r2', 7): 2,\n",
       "             ('r2', 6): 6,\n",
       "             ('r2', 5): 18,\n",
       "             ('r2', 4): 54,\n",
       "             ('r2', 3): 162,\n",
       "             ('r2', 2): 486,\n",
       "             ('r2', 1): 1458})"
      ]
     },
     "execution_count": 11,
     "metadata": {},
     "output_type": "execute_result"
    }
   ],
   "source": [
    "call_time_with_arg1      #观察每个长度被叫到的次数，被反复叫到"
   ]
  },
  {
   "cell_type": "code",
   "execution_count": 12,
   "metadata": {},
   "outputs": [],
   "source": [
    "call_time_with_arg2=defaultdict(int)\n",
    "def get_call_times_2(f):#在保留原有函数作用的前提下，增加一些新的功能(观察次数)\n",
    "    \"\"\"@param f is a function\"\"\"\n",
    "    def wrap(n):\n",
    "        #print('i can count')\n",
    "        result=f(n)\n",
    "        call_time_with_arg2[(f.__name__,n)]+=1\n",
    "        return result\n",
    "    return wrap"
   ]
  },
  {
   "cell_type": "code",
   "execution_count": 13,
   "metadata": {},
   "outputs": [],
   "source": [
    "def add_ten(n):return n+10"
   ]
  },
  {
   "cell_type": "code",
   "execution_count": 14,
   "metadata": {},
   "outputs": [],
   "source": [
    "add_ten=get_call_times_2(add_ten)"
   ]
  },
  {
   "cell_type": "code",
   "execution_count": 15,
   "metadata": {},
   "outputs": [
    {
     "data": {
      "text/plain": [
       "20"
      ]
     },
     "execution_count": 15,
     "metadata": {},
     "output_type": "execute_result"
    }
   ],
   "source": [
    "add_ten(10)"
   ]
  },
  {
   "cell_type": "code",
   "execution_count": 16,
   "metadata": {},
   "outputs": [],
   "source": [
    "@get_call_times_2      #用装饰器进行简写\n",
    "def add_twenty(n):\n",
    "    return n+20"
   ]
  },
  {
   "cell_type": "code",
   "execution_count": 17,
   "metadata": {},
   "outputs": [
    {
     "data": {
      "text/plain": [
       "30"
      ]
     },
     "execution_count": 17,
     "metadata": {},
     "output_type": "execute_result"
    }
   ],
   "source": [
    "add_twenty(10)"
   ]
  },
  {
   "cell_type": "markdown",
   "metadata": {},
   "source": [
    "给revenue函数加上装饰器，从而不需要在函数内部定义变量、字典来观察call time"
   ]
  },
  {
   "cell_type": "code",
   "execution_count": 18,
   "metadata": {},
   "outputs": [
    {
     "data": {
      "text/plain": [
       "22"
      ]
     },
     "execution_count": 18,
     "metadata": {},
     "output_type": "execute_result"
    }
   ],
   "source": [
    "@get_call_times_2\n",
    "def r3(n):   #重新定义max revenue,加上临时观察calltime的功能\n",
    "    \"\"\"\n",
    "    Args: n is the iron length\n",
    "    Return: the max revenue \n",
    "    \"\"\"\n",
    "    return max([price[n]]+[r3(n-i)+r3(i) for i in range(1,n)])\n",
    "r3(8)"
   ]
  },
  {
   "cell_type": "code",
   "execution_count": 19,
   "metadata": {},
   "outputs": [
    {
     "data": {
      "text/plain": [
       "defaultdict(int,\n",
       "            {('add_ten', 10): 1,\n",
       "             ('add_twenty', 10): 1,\n",
       "             ('r3', 1): 1458,\n",
       "             ('r3', 2): 486,\n",
       "             ('r3', 3): 162,\n",
       "             ('r3', 4): 54,\n",
       "             ('r3', 5): 18,\n",
       "             ('r3', 6): 6,\n",
       "             ('r3', 7): 2,\n",
       "             ('r3', 8): 1})"
      ]
     },
     "execution_count": 19,
     "metadata": {},
     "output_type": "execute_result"
    }
   ],
   "source": [
    "call_time_with_arg2"
   ]
  },
  {
   "cell_type": "code",
   "execution_count": 20,
   "metadata": {},
   "outputs": [
    {
     "name": "stdout",
     "output_type": "stream",
     "text": [
      "Help on function wrap in module __main__:\n",
      "\n",
      "wrap(n)\n",
      "\n"
     ]
    }
   ],
   "source": [
    "help(r3)   #装饰器使函数失去了原有的命名的意义"
   ]
  },
  {
   "cell_type": "code",
   "execution_count": 21,
   "metadata": {},
   "outputs": [],
   "source": [
    "from functools import wraps"
   ]
  },
  {
   "cell_type": "code",
   "execution_count": 22,
   "metadata": {},
   "outputs": [],
   "source": [
    "call_time_with_arg3=defaultdict(int)"
   ]
  },
  {
   "cell_type": "code",
   "execution_count": 23,
   "metadata": {},
   "outputs": [],
   "source": [
    "def get_call_times_3(f):#在保留原有函数作用的前提下，增加一些新的功能(观察次数)\n",
    "    \"\"\"@param f is a function\"\"\"\n",
    "    @wraps(f)             #加上这一句,保留原函数的命名意义\n",
    "    def wrap(n):\n",
    "        #print('i can count')\n",
    "        result=f(n)\n",
    "        call_time_with_arg3[(f.__name__,n)]+=1\n",
    "        #print(call_time_with_arg3)\n",
    "        return result\n",
    "    return wrap"
   ]
  },
  {
   "cell_type": "code",
   "execution_count": 24,
   "metadata": {},
   "outputs": [
    {
     "data": {
      "text/plain": [
       "22"
      ]
     },
     "execution_count": 24,
     "metadata": {},
     "output_type": "execute_result"
    }
   ],
   "source": [
    "@get_call_times_3\n",
    "def r4(n):  \n",
    "    \"\"\"\n",
    "    Args: n is the iron length\n",
    "    Return: the max revenue \n",
    "    \"\"\"\n",
    "    return max([price[n]]+[r4(n-i)+r4(i) for i in range(1,n)])\n",
    "r4(8)"
   ]
  },
  {
   "cell_type": "code",
   "execution_count": 25,
   "metadata": {
    "scrolled": true
   },
   "outputs": [
    {
     "name": "stdout",
     "output_type": "stream",
     "text": [
      "Help on function r4 in module __main__:\n",
      "\n",
      "r4(n)\n",
      "    Args: n is the iron length\n",
      "    Return: the max revenue\n",
      "\n"
     ]
    }
   ],
   "source": [
    "help(r4)   #保留r4的内容"
   ]
  },
  {
   "cell_type": "code",
   "execution_count": 26,
   "metadata": {},
   "outputs": [],
   "source": [
    "def memo(f):\n",
    "    already_computed={}\n",
    "    @wraps(f)\n",
    "    def _wrap(arg):\n",
    "        result=None\n",
    "        \n",
    "        if arg in already_computed:\n",
    "            result=already_computed[arg]\n",
    "        else:\n",
    "            result=f(arg)\n",
    "            already_computed[arg]=result\n",
    "        return result\n",
    "    return _wrap"
   ]
  },
  {
   "cell_type": "code",
   "execution_count": 27,
   "metadata": {},
   "outputs": [],
   "source": [
    "@memo\n",
    "@get_call_times_3\n",
    "def r5(n):   #把r用memo装饰一下  \n",
    "    \"\"\"\n",
    "    Args: n is the iron length\n",
    "    Return: the max revenue \n",
    "    \"\"\"\n",
    "    return max([price[n]]+[r5(n-i)+r5(i) for i in range(1,n)])"
   ]
  },
  {
   "cell_type": "code",
   "execution_count": 28,
   "metadata": {},
   "outputs": [
    {
     "data": {
      "text/plain": [
       "60"
      ]
     },
     "execution_count": 28,
     "metadata": {},
     "output_type": "execute_result"
    }
   ],
   "source": [
    "r5(20)    #注意速度明显变快，运行r5之前记得重新运行一下call_time_with_arg3=defaultdict(int) 清空字典"
   ]
  },
  {
   "cell_type": "code",
   "execution_count": 29,
   "metadata": {},
   "outputs": [
    {
     "data": {
      "text/plain": [
       "defaultdict(int,\n",
       "            {('r4', 1): 1458,\n",
       "             ('r4', 2): 486,\n",
       "             ('r4', 3): 162,\n",
       "             ('r4', 4): 54,\n",
       "             ('r4', 5): 18,\n",
       "             ('r4', 6): 6,\n",
       "             ('r4', 7): 2,\n",
       "             ('r4', 8): 1,\n",
       "             ('r5', 1): 1,\n",
       "             ('r5', 2): 1,\n",
       "             ('r5', 3): 1,\n",
       "             ('r5', 4): 1,\n",
       "             ('r5', 5): 1,\n",
       "             ('r5', 6): 1,\n",
       "             ('r5', 7): 1,\n",
       "             ('r5', 8): 1,\n",
       "             ('r5', 9): 1,\n",
       "             ('r5', 10): 1,\n",
       "             ('r5', 11): 1,\n",
       "             ('r5', 12): 1,\n",
       "             ('r5', 13): 1,\n",
       "             ('r5', 14): 1,\n",
       "             ('r5', 15): 1,\n",
       "             ('r5', 16): 1,\n",
       "             ('r5', 17): 1,\n",
       "             ('r5', 18): 1,\n",
       "             ('r5', 19): 1,\n",
       "             ('r5', 20): 1})"
      ]
     },
     "execution_count": 29,
     "metadata": {},
     "output_type": "execute_result"
    }
   ],
   "source": [
    "call_time_with_arg3          #每个片段只被call一次"
   ]
  },
  {
   "cell_type": "markdown",
   "metadata": {},
   "source": [
    "## Dynamic Programming （动态查表）\n",
    "+ 1. Overlapping Subproblems------------------------------>都有一个重复的子问题，already_computed\n",
    "+ 2. Overlapping computing saved in a table------------->通过r6(n)生成字典solution\n",
    "+ 3. Parse solution----------------------------------------------->function parse_solution"
   ]
  },
  {
   "cell_type": "code",
   "execution_count": 30,
   "metadata": {},
   "outputs": [],
   "source": [
    "solution = {}"
   ]
  },
  {
   "cell_type": "code",
   "execution_count": 31,
   "metadata": {},
   "outputs": [],
   "source": [
    "#@get_call_times_3\n",
    "@memo\n",
    "def r6(n):\n",
    "    \"\"\"\n",
    "    Args: n is the iron length\n",
    "    Return: the max revenue \n",
    "    \"\"\"\n",
    "    max_price, max_split = max(\n",
    "        [(price[n], 0)] + [(r6(i) + r6(n-i), i) for i in range(1, n)], key=lambda x: x[0]\n",
    "    )\n",
    "\n",
    "    solution[n] = (n - max_split, max_split)\n",
    "    \n",
    "    return max_price"
   ]
  },
  {
   "cell_type": "code",
   "execution_count": 32,
   "metadata": {},
   "outputs": [],
   "source": [
    "def parse_solution(n):  #得到切分方式\n",
    "    left_split,right_split=solution[n]\n",
    "    if right_split==0:return [left_split]  #如果右边为0，说明只切割成1断，左边的数值就是最佳切割方式\n",
    "    return(parse_solution(left_split)+parse_solution(right_split))"
   ]
  },
  {
   "cell_type": "code",
   "execution_count": 33,
   "metadata": {},
   "outputs": [
    {
     "data": {
      "text/plain": [
       "351"
      ]
     },
     "execution_count": 33,
     "metadata": {},
     "output_type": "execute_result"
    }
   ],
   "source": [
    "r6(111)"
   ]
  },
  {
   "cell_type": "code",
   "execution_count": 34,
   "metadata": {},
   "outputs": [
    {
     "data": {
      "text/plain": [
       "[11, 11, 11, 11, 11, 11, 11, 11, 11, 11, 1]"
      ]
     },
     "execution_count": 34,
     "metadata": {},
     "output_type": "execute_result"
    }
   ],
   "source": [
    "parse_solution(111)"
   ]
  },
  {
   "cell_type": "markdown",
   "metadata": {},
   "source": [
    "### Part 2: change loss function from $loss = \\frac{1}{n}\\sum{(y_i - \\hat(y_i))^2}$ to $loss = \\frac{1}{n}\\sum{|y_i - \\hat{y_i}|}$, and using your mathmatical knowledge to get the right partial formual. Implemen the gradient descent code."
   ]
  },
  {
   "cell_type": "markdown",
   "metadata": {},
   "source": [
    "Done in assignment 2"
   ]
  },
  {
   "cell_type": "markdown",
   "metadata": {},
   "source": [
    "### Part 3: Finish the Solution Parse Part of Edit-Distance"
   ]
  },
  {
   "cell_type": "code",
   "execution_count": 35,
   "metadata": {},
   "outputs": [],
   "source": [
    "from functools import lru_cache"
   ]
  },
  {
   "cell_type": "code",
   "execution_count": 65,
   "metadata": {},
   "outputs": [],
   "source": [
    "solutionD={}    #注意每次计算不同单词间的距离，需要重新运行solutionD={}"
   ]
  },
  {
   "cell_type": "code",
   "execution_count": 66,
   "metadata": {},
   "outputs": [],
   "source": [
    "@lru_cache(maxsize=2**10)      #把相对耗时的函数结果进行保存，避免传入相同的参数重复计算。同时,不用的缓存会被释放\n",
    "def edit_distance(string1,string2):\n",
    "    if len(string1)==0:return len(string2)\n",
    "    if len(string2)==0:return len(string1)  #任一string为空,编辑距离为另一个string的Length\n",
    "    \n",
    "    tail_s1=string1[-1]  #原理是建立一个矩阵，通过矩阵记录计算好的距离\n",
    "    tail_s2=string2[-1]\n",
    "    \n",
    "    candidates=[\n",
    "        (edit_distance(string1[:-1],string2)+1,'DEL {}'.format(tail_s1)), #string1 delete tail\n",
    "        (edit_distance(string1,string2[:-1])+1,'ADD {}'.format(tail_s2)), #string1 add tail of string2\n",
    "    ]\n",
    "    \n",
    "    if tail_s1==tail_s2:\n",
    "        both_forward=(edit_distance(string1[:-1],string2[:-1])+0,'')\n",
    "    else:\n",
    "        both_forward=(edit_distance(string1[:-1],string2[:-1])+1,'SUB {} => {}'.format(tail_s1,tail_s2))\n",
    " \n",
    "    candidates.append(both_forward)\n",
    "    \n",
    "    min_distance,operation=min(candidates,key=lambda x:x[0])  #distance为Del+1,Add+1,Sub+0或1三种操作的最小值\n",
    "    solutionD[(string1,string2)]=operation\n",
    "    \n",
    "    return min_distance"
   ]
  },
  {
   "cell_type": "code",
   "execution_count": 67,
   "metadata": {},
   "outputs": [],
   "source": [
    "step=[]          #注意每次计算不同单词的变化路径，需要重新运行step=[]"
   ]
  },
  {
   "cell_type": "code",
   "execution_count": 68,
   "metadata": {},
   "outputs": [],
   "source": [
    "def parse_solutionD(string1,string2):\n",
    "    if (string1=='') and (string2==''):return []\n",
    "    elif string1=='':\n",
    "        step.append('{s1}->{s2}:ADD {l}'.format(s1='',s2=string2,l=string2[-1]))\n",
    "    elif string2=='':\n",
    "        step.append('{s1}->{s2}:DEL {l}'.format(s1=string1,s2='',l=string1[-1]))\n",
    "    else:\n",
    "        operation = solutionD[(string1,string2)]\n",
    "        step.append('{s1}->{s2}:{op}'.format(s1=string1,s2=string2,op=operation))\n",
    "        if operation.startswith('SUB') or operation =='':\n",
    "            string1=string1[:-1]+string2[-1]\n",
    "        elif operation.startswith('ADD'):\n",
    "            string1=string1+string2[-1]\n",
    "        elif operation.startswith('DEL'):\n",
    "            string2=string2+string1[-1]\n",
    "    parse_solutionD(string1[:-1],string2[:-1])\n",
    "    return step "
   ]
  },
  {
   "cell_type": "code",
   "execution_count": 55,
   "metadata": {},
   "outputs": [
    {
     "data": {
      "text/plain": [
       "2"
      ]
     },
     "execution_count": 55,
     "metadata": {},
     "output_type": "execute_result"
    }
   ],
   "source": [
    "edit_distance('ABCDE', 'ABCCEF')"
   ]
  },
  {
   "cell_type": "code",
   "execution_count": 56,
   "metadata": {
    "scrolled": true
   },
   "outputs": [
    {
     "data": {
      "text/plain": [
       "{('A', 'A'): '',\n",
       " ('A', 'AB'): 'ADD B',\n",
       " ('A', 'ABC'): 'ADD C',\n",
       " ('A', 'ABCC'): 'ADD C',\n",
       " ('A', 'ABCCE'): 'ADD E',\n",
       " ('A', 'ABCCEF'): 'ADD F',\n",
       " ('AB', 'A'): 'DEL B',\n",
       " ('AB', 'AB'): '',\n",
       " ('AB', 'ABC'): 'ADD C',\n",
       " ('AB', 'ABCC'): 'ADD C',\n",
       " ('AB', 'ABCCE'): 'ADD E',\n",
       " ('AB', 'ABCCEF'): 'ADD F',\n",
       " ('ABC', 'A'): 'DEL C',\n",
       " ('ABC', 'AB'): 'DEL C',\n",
       " ('ABC', 'ABC'): '',\n",
       " ('ABC', 'ABCC'): 'ADD C',\n",
       " ('ABC', 'ABCCE'): 'ADD E',\n",
       " ('ABC', 'ABCCEF'): 'ADD F',\n",
       " ('ABCD', 'A'): 'DEL D',\n",
       " ('ABCD', 'AB'): 'DEL D',\n",
       " ('ABCD', 'ABC'): 'DEL D',\n",
       " ('ABCD', 'ABCC'): 'SUB D => C',\n",
       " ('ABCD', 'ABCCE'): 'ADD E',\n",
       " ('ABCD', 'ABCCEF'): 'ADD F',\n",
       " ('ABCDE', 'A'): 'DEL E',\n",
       " ('ABCDE', 'AB'): 'DEL E',\n",
       " ('ABCDE', 'ABC'): 'DEL E',\n",
       " ('ABCDE', 'ABCC'): 'DEL E',\n",
       " ('ABCDE', 'ABCCE'): '',\n",
       " ('ABCDE', 'ABCCEF'): 'ADD F'}"
      ]
     },
     "execution_count": 56,
     "metadata": {},
     "output_type": "execute_result"
    }
   ],
   "source": [
    "solutionD"
   ]
  },
  {
   "cell_type": "code",
   "execution_count": 57,
   "metadata": {},
   "outputs": [
    {
     "data": {
      "text/plain": [
       "['ABCDE->ABCCEF:ADD F',\n",
       " 'ABCDE->ABCCE:',\n",
       " 'ABCD->ABCC:SUB D => C',\n",
       " 'ABC->ABC:',\n",
       " 'AB->AB:',\n",
       " 'A->A:']"
      ]
     },
     "execution_count": 57,
     "metadata": {},
     "output_type": "execute_result"
    }
   ],
   "source": [
    "parse_solutionD('ABCDE', 'ABCCEF')"
   ]
  },
  {
   "cell_type": "code",
   "execution_count": 69,
   "metadata": {},
   "outputs": [
    {
     "data": {
      "text/plain": [
       "5"
      ]
     },
     "execution_count": 69,
     "metadata": {},
     "output_type": "execute_result"
    }
   ],
   "source": [
    "edit_distance('INTENTION', 'EXECUTION')"
   ]
  },
  {
   "cell_type": "code",
   "execution_count": 70,
   "metadata": {},
   "outputs": [
    {
     "data": {
      "text/plain": [
       "['INTENTION->EXECUTION:',\n",
       " 'INTENTIO->EXECUTIO:',\n",
       " 'INTENTI->EXECUTI:',\n",
       " 'INTENT->EXECUT:',\n",
       " 'INTEN->EXECU:ADD U',\n",
       " 'INTEN->EXEC:SUB N => C',\n",
       " 'INTE->EXE:',\n",
       " 'INT->EX:DEL T',\n",
       " 'IN->EX:SUB N => X',\n",
       " 'I->E:SUB I => E']"
      ]
     },
     "execution_count": 70,
     "metadata": {},
     "output_type": "execute_result"
    }
   ],
   "source": [
    "parse_solutionD('INTENTION', 'EXECUTION')"
   ]
  },
  {
   "cell_type": "code",
   "execution_count": 191,
   "metadata": {},
   "outputs": [
    {
     "data": {
      "text/plain": [
       "2"
      ]
     },
     "execution_count": 191,
     "metadata": {},
     "output_type": "execute_result"
    }
   ],
   "source": [
    "edit_distance('1010', '11100')"
   ]
  },
  {
   "cell_type": "code",
   "execution_count": 192,
   "metadata": {},
   "outputs": [
    {
     "data": {
      "text/plain": [
       "['1010->11100:ADD 0', '1010->1110:', '101->111:', '10->11:SUB 0 => 1', '1->1:']"
      ]
     },
     "execution_count": 192,
     "metadata": {},
     "output_type": "execute_result"
    }
   ],
   "source": [
    "parse_solutionD('1010', '11100')"
   ]
  },
  {
   "cell_type": "code",
   "execution_count": 191,
   "metadata": {},
   "outputs": [
    {
     "data": {
      "text/plain": [
       "2"
      ]
     },
     "execution_count": 191,
     "metadata": {},
     "output_type": "execute_result"
    }
   ],
   "source": [
    "edit_distance('1010', '11100')"
   ]
  },
  {
   "cell_type": "code",
   "execution_count": 192,
   "metadata": {},
   "outputs": [
    {
     "data": {
      "text/plain": [
       "['1010->11100:ADD 0', '1010->1110:', '101->111:', '10->11:SUB 0 => 1', '1->1:']"
      ]
     },
     "execution_count": 192,
     "metadata": {},
     "output_type": "execute_result"
    }
   ],
   "source": [
    "parse_solutionD('1010', '11100')"
   ]
  },
  {
   "cell_type": "code",
   "execution_count": 197,
   "metadata": {},
   "outputs": [
    {
     "data": {
      "text/plain": [
       "3"
      ]
     },
     "execution_count": 197,
     "metadata": {},
     "output_type": "execute_result"
    }
   ],
   "source": [
    "edit_distance('beijing', 'biejin')"
   ]
  },
  {
   "cell_type": "code",
   "execution_count": 198,
   "metadata": {},
   "outputs": [
    {
     "data": {
      "text/plain": [
       "['beijing->biejin:DEL g',\n",
       " 'beijin->biejin:',\n",
       " 'beiji->bieji:',\n",
       " 'beij->biej:',\n",
       " 'bei->bie:DEL i',\n",
       " 'be->bie:',\n",
       " 'b->bi:ADD i',\n",
       " 'b->b:']"
      ]
     },
     "execution_count": 198,
     "metadata": {},
     "output_type": "execute_result"
    }
   ],
   "source": [
    "parse_solutionD('beijing', 'biejin')"
   ]
  },
  {
   "cell_type": "code",
   "execution_count": 203,
   "metadata": {},
   "outputs": [
    {
     "data": {
      "text/plain": [
       "1"
      ]
     },
     "execution_count": 203,
     "metadata": {},
     "output_type": "execute_result"
    }
   ],
   "source": [
    "edit_distance('ATCGGAA', 'ATCGGGA')"
   ]
  },
  {
   "cell_type": "code",
   "execution_count": 204,
   "metadata": {},
   "outputs": [
    {
     "data": {
      "text/plain": [
       "['ATCGGAA->ATCGGGA:',\n",
       " 'ATCGGA->ATCGGG:SUB A => G',\n",
       " 'ATCGG->ATCGG:',\n",
       " 'ATCG->ATCG:',\n",
       " 'ATC->ATC:',\n",
       " 'AT->AT:',\n",
       " 'A->A:']"
      ]
     },
     "execution_count": 204,
     "metadata": {},
     "output_type": "execute_result"
    }
   ],
   "source": [
    "parse_solutionD('ATCGGAA', 'ATCGGGA')"
   ]
  },
  {
   "cell_type": "markdown",
   "metadata": {},
   "source": [
    "### 运行中的问题，每次计算不同的距离和演示变化步骤，需要先重新运行solutionD={} ，def edit_distance(),step=[],def parse_solutionD,如果只重新运行solutionD={},call edit_distance的时候solutionD会一直是空字典，不太理解为什么，call edit_distance不是应该在运行过程中把相应的内容放进字典吗？为什么一定要重新运行一下定义函数的过程才可以work?"
   ]
  },
  {
   "cell_type": "markdown",
   "metadata": {},
   "source": [
    "### Part 4 Choose 1 - 2 books to keep reading: \n",
    "\n",
    "+ SICP, Structure and Interpretation of Computer Programming. \n",
    "+ Introduction to Algorithms \n",
    "+ Artificial Intelligence A Modern Approach (3rd Edition) \n",
    "+ Code Complete 2 \n",
    "+ Programming Pearls \n",
    "+ Deep Learning\n",
    "+ 黑客与画家\n",
    "+ 数学之美\n",
    "+ Fluent Python\n",
    "+ Hands on Tensorflow\n",
    "+ Conference: NIPS_ ICML_ ICLR_ ACL_ AAAI\n",
    "\n",
    "> most books you may find in our github: https://github.com/Computing-Intelligence/References"
   ]
  },
  {
   "cell_type": "markdown",
   "metadata": {},
   "source": [
    "## Part 5-1: review machine learning"
   ]
  },
  {
   "cell_type": "markdown",
   "metadata": {},
   "source": [
    "1. Why do we use Derivative / Gredient to fit a target function?¶"
   ]
  },
  {
   "cell_type": "markdown",
   "metadata": {},
   "source": [
    "Ans:使用梯度可以明确的朝loss function减小的方向变化"
   ]
  },
  {
   "cell_type": "markdown",
   "metadata": {},
   "source": [
    "2. In the words 'Gredient Descent', what's the Gredient and what's the Descent?¶"
   ]
  },
  {
   "cell_type": "markdown",
   "metadata": {},
   "source": [
    "Ans:梯度是loss function的导数，下降指得是朝梯度负增长的方向更新参数"
   ]
  },
  {
   "cell_type": "markdown",
   "metadata": {},
   "source": [
    "\n",
    "3. What's the advantages of the 3rd gradient descent method compared to the previous methods?"
   ]
  },
  {
   "cell_type": "markdown",
   "metadata": {},
   "source": [
    "Ans:参数的变化方向更明确，下降速度更快"
   ]
  },
  {
   "cell_type": "markdown",
   "metadata": {},
   "source": [
    "4. Using the simple words to describe: What's the machine leanring.¶"
   ]
  },
  {
   "cell_type": "markdown",
   "metadata": {},
   "source": [
    "Ans:如何输入数据来有效的获取函数参数具体值得学科"
   ]
  },
  {
   "cell_type": "markdown",
   "metadata": {},
   "source": [
    "### Part 5: Answer following questions: "
   ]
  },
  {
   "cell_type": "markdown",
   "metadata": {},
   "source": [
    "1. Why do we need dynamic programming? What's the difference of dynamic programming and previous talked `search` problme? "
   ]
  },
  {
   "cell_type": "markdown",
   "metadata": {},
   "source": [
    "Ans:相对于brute force,动态规划能够大大减少计算重复，提高效率。"
   ]
  },
  {
   "cell_type": "markdown",
   "metadata": {},
   "source": [
    "2. Why do we still need dynamic programming? Why not we train a machine learning to fit a function which could get the `right` answer based on inputs?"
   ]
  },
  {
   "cell_type": "markdown",
   "metadata": {},
   "source": [
    "Ans:动态规划问题一般不具备一个可以抽象成函数的结果"
   ]
  },
  {
   "cell_type": "markdown",
   "metadata": {},
   "source": [
    "3. Can you catch up at least 3 problems which could solved by Dynamic Programming? "
   ]
  },
  {
   "cell_type": "markdown",
   "metadata": {},
   "source": [
    "Ans:编辑距离，拆分价格最高问题，TSP问题"
   ]
  },
  {
   "cell_type": "markdown",
   "metadata": {},
   "source": [
    "4. Can you catch up at least 3 problems wich could sloved by Edit Distance? "
   ]
  },
  {
   "cell_type": "markdown",
   "metadata": {},
   "source": [
    "Ans:语音识别，抄袭检查，拼写自动提示"
   ]
  },
  {
   "cell_type": "markdown",
   "metadata": {},
   "source": [
    "5. Please summarize the three main features of Dynamic Programming, and make a concise explain for each feature. "
   ]
  },
  {
   "cell_type": "markdown",
   "metadata": {},
   "source": [
    "Ans:1.最优子结构性质：如果问题的最优解包含的子问题的解也是最优的，我们就称该问题具有最优子结构性质。2.无后效性:子问题的解一旦确定，就不再改变。3.子问题重叠性质:每次产生的子问题并不总是新问题，可以通过查表获得结果，从而获得较高的效率。"
   ]
  },
  {
   "cell_type": "markdown",
   "metadata": {},
   "source": [
    "6. What's the disadvantages of Dynamic Programming? (You may need search by yourself in Internet)"
   ]
  },
  {
   "cell_type": "markdown",
   "metadata": {},
   "source": [
    "Ans:1.没有统一的标准模型；2.数据维度较高时，可能造成空间复杂度很高"
   ]
  },
  {
   "cell_type": "markdown",
   "metadata": {},
   "source": [
    "## Part 6 Preparation of Project-01"
   ]
  },
  {
   "cell_type": "markdown",
   "metadata": {},
   "source": [
    "1. Using python Flask or Bottle to finish your first simple web app:\n",
    "> https://bottlepy.org/\n",
    "\n",
    "2. Learn what's the SQL, and try some simple SQL operations:\n",
    "> https://www.w3schools.com/sql/sql_intro.asp\n",
    "\n",
    "3. Learn what's the HTML ( *ONLY* need to know the basic things)\n",
    "> https://getbootstrap.com/; https://www.w3schools.com/html/"
   ]
  },
  {
   "cell_type": "markdown",
   "metadata": {},
   "source": [
    "### (Optinal) Finish the k-person-salesman problem:"
   ]
  },
  {
   "cell_type": "code",
   "execution_count": 71,
   "metadata": {},
   "outputs": [],
   "source": [
    "import random\n",
    "import matplotlib.pyplot as plt"
   ]
  },
  {
   "cell_type": "code",
   "execution_count": 472,
   "metadata": {},
   "outputs": [],
   "source": [
    "latitudes = [random.randint(-100, 100) for _ in range(20)]\n",
    "longitudes = [random.randint(-100, 100) for _ in range(20)]"
   ]
  },
  {
   "cell_type": "code",
   "execution_count": 473,
   "metadata": {},
   "outputs": [
    {
     "data": {
      "text/plain": [
       "<matplotlib.collections.PathCollection at 0x5e7a0813c8>"
      ]
     },
     "execution_count": 473,
     "metadata": {},
     "output_type": "execute_result"
    },
    {
     "data": {
      "image/png": "[encoded data removed]",
      "text/plain": [
       "<Figure size 432x288 with 1 Axes>"
      ]
     },
     "metadata": {
      "needs_background": "light"
     },
     "output_type": "display_data"
    }
   ],
   "source": [
    "plt.scatter(latitudes, longitudes)"
   ]
  },
  {
   "cell_type": "markdown",
   "metadata": {},
   "source": [
    "给定一个初始点 𝑃, 已经 𝑘个车辆，如何从该点出发，经这 k 个车辆经过所以的点全部一次，而且所走过的路程最短?\n",
    "\n",
    "例如："
   ]
  },
  {
   "cell_type": "code",
   "execution_count": 208,
   "metadata": {},
   "outputs": [],
   "source": [
    "chosen_p = (-50, 10)\n",
    "chosen_p2 = (1, 30)\n",
    "chosen_p3 = (99, 15)"
   ]
  },
  {
   "cell_type": "code",
   "execution_count": 474,
   "metadata": {
    "scrolled": true
   },
   "outputs": [
    {
     "data": {
      "text/plain": [
       "<matplotlib.collections.PathCollection at 0x5e7749f518>"
      ]
     },
     "execution_count": 474,
     "metadata": {},
     "output_type": "execute_result"
    },
    {
     "data": {
      "image/png": "[encoded data removed]",
      "text/plain": [
       "<Figure size 432x288 with 1 Axes>"
      ]
     },
     "metadata": {
      "needs_background": "light"
     },
     "output_type": "display_data"
    }
   ],
   "source": [
    "plt.scatter(latitudes, longitudes)\n",
    "plt.scatter([chosen_p[0]], [chosen_p[1]], color='r')\n",
    "plt.scatter([chosen_p2[0]], [chosen_p2[1]], color='r')\n",
    "plt.scatter([chosen_p3[0]], [chosen_p3[1]], color='r')"
   ]
  },
  {
   "cell_type": "code",
   "execution_count": 72,
   "metadata": {},
   "outputs": [],
   "source": [
    "#try with simple brute force first\n",
    "import numpy as np\n",
    "import itertools"
   ]
  },
  {
   "cell_type": "code",
   "execution_count": 73,
   "metadata": {},
   "outputs": [],
   "source": [
    "n = 15\n",
    "longitudes = [np.random.randint(-100, 100) for _ in range(n)]\n",
    "latitudes = [np.random.randint(-100, 100) for _ in range(n)] \n",
    "coordinates = list(zip(longitudes, latitudes))"
   ]
  },
  {
   "cell_type": "code",
   "execution_count": 74,
   "metadata": {},
   "outputs": [],
   "source": [
    "def get_dist(x, y): #input are longitude and latitude,output is matrix\n",
    "    n=len(x)\n",
    "    dist=np.zeros((n,n))\n",
    "    for i in range(n):\n",
    "        for j in range(n):\n",
    "            dist[i][j]=np.sqrt((x[j]-x[i])**2+(y[j]-y[i])**2)\n",
    "    return dist"
   ]
  },
  {
   "cell_type": "code",
   "execution_count": 75,
   "metadata": {
    "scrolled": true
   },
   "outputs": [
    {
     "name": "stdout",
     "output_type": "stream",
     "text": [
      "[[  0.         143.40153416 104.80458005 172.58621034 108.4619749\n",
      "  120.83045974 127.28707711 158.15182579 135.66502866 155.61812234\n",
      "  201.69531477 141.01418368 144.89996549  60.74537019  28.63564213]\n",
      " [143.40153416   0.          42.3792402   82.03657721 102.01960596\n",
      "  150.05332386  21.02379604 126.64912159  53.48831648 154.78048973\n",
      "   60.00833275  95.18928511 157.27682601 135.59498516 133.68619974]\n",
      " [104.80458005  42.3792402    0.         107.93516572  95.85405573\n",
      "  140.68404316  23.02172887 134.95184326  69.11584478 155.70806016\n",
      "  102.31813134 104.00480758 154.15576538  93.39164845 100.17983829]\n",
      " [172.58621034  82.03657721 107.93516572   0.          75.80237463\n",
      "  112.32987136  97.65244493  62.36986452  40.60788101  97.26767192\n",
      "   81.09870529  43.27817002 106.40488711 191.26944346 150.52574531]\n",
      " [108.4619749  102.01960596  95.85405573  75.80237463   0.\n",
      "   48.0416486  102.77159141  50.59644256  56.08029957  60.80296045\n",
      "  138.29316686  35.11409973  58.30951895 145.36161804  82.02438662]\n",
      " [120.83045974 150.05332386 140.68404316 112.32987136  48.0416486\n",
      "    0.         149.96666296  59.36328832 102.6109156   38.01315562\n",
      "  183.73078131  69.46221995  24.73863375 171.33009076  92.28217596]\n",
      " [127.28707711  21.02379604  23.02172887  97.65244493 102.77159141\n",
      "  149.96666296   0.         134.82581355  63.2534584  159.76545309\n",
      "   80.00624976 103.07764064 160.33090781 115.13470372 120.73938877]\n",
      " [158.15182579 126.64912159 134.95184326  62.36986452  50.59644256\n",
      "   59.36328832 134.82581355   0.          73.1641989   35.11409973\n",
      "  142.28492541  31.76476035  46.04345773 195.49424544 130.75167303]\n",
      " [135.66502866  53.48831648  69.11584478  40.60788101  56.08029957\n",
      "  102.6109156   63.2534584   73.1641989    0.         102.10778619\n",
      "   82.29216245  41.76122604 106.00471688 150.74813432 116.2970335 ]\n",
      " [155.61812234 154.78048973 155.70806016  97.26767192  60.80296045\n",
      "   38.01315562 159.76545309  35.11409973 102.10778619   0.\n",
      "  176.25549637  61.07372594  14.86606875 201.69531477 127.01574706]\n",
      " [201.69531477  60.00833275 102.31813134  81.09870529 138.29316686\n",
      "  183.73078131  80.00624976 142.28492541  82.29216245 176.25549637\n",
      "    0.         116.49892703 183.37120821 195.13328778 188.95766722]\n",
      " [141.01418368  95.18928511 104.00480758  43.27817002  35.11409973\n",
      "   69.46221995 103.07764064  31.76476035  41.76122604  61.07372594\n",
      "  116.49892703   0.          66.91038783 171.08185176 115.8490397 ]\n",
      " [144.89996549 157.27682601 154.15576538 106.40488711  58.30951895\n",
      "   24.73863375 160.33090781  46.04345773 106.00471688  14.86606875\n",
      "  183.37120821  66.91038783   0.         193.499354   116.27553483]\n",
      " [ 60.74537019 135.59498516  93.39164845 191.26944346 145.36161804\n",
      "  171.33009076 115.13470372 195.49424544 150.74813432 201.69531477\n",
      "  195.13328778 171.08185176 193.499354     0.          83.48652586]\n",
      " [ 28.63564213 133.68619974 100.17983829 150.52574531  82.02438662\n",
      "   92.28217596 120.73938877 130.75167303 116.2970335  127.01574706\n",
      "  188.95766722 115.8490397  116.27553483  83.48652586   0.        ]]\n"
     ]
    }
   ],
   "source": [
    "dist_matrix=get_dist(latitudes,longitudes)\n",
    "print(dist_matrix)"
   ]
  },
  {
   "cell_type": "code",
   "execution_count": 76,
   "metadata": {},
   "outputs": [],
   "source": [
    "def find_path_by_brutal_force(num):   #try brute force first with a small number first so that later we can compare the route with DP\n",
    "    path_list=list(itertools.permutations(range(1,num)))  #起点为0\n",
    "    path_sum=[]\n",
    "    for i in path_list:  #i is a tuple,eg.(1,2,3,4)\n",
    "        temp_sum=0  #get sum for each i\n",
    "        x=0         #initialize the start point\n",
    "        #print(i)\n",
    "        for j in i:  #j is each indice of each city\n",
    "            temp_sum +=dist_matrix[x][j]\n",
    "            #print(dist_matrix[x][j])\n",
    "            x=j     #set the next start point\n",
    "\n",
    "        else:     #for循环正常结束，继续在else中语句执行\n",
    "            temp_sum +=dist_matrix[j][0]\n",
    "            #print(dist_matrix[j][0])\n",
    "        path_sum.append([temp_sum,i])\n",
    "    path_sum.sort(key=lambda x: x[0])\n",
    "    return path_sum[0]"
   ]
  },
  {
   "cell_type": "code",
   "execution_count": 77,
   "metadata": {
    "scrolled": true
   },
   "outputs": [
    {
     "data": {
      "text/plain": [
       "[413.48474699803904, (2, 1, 3, 4)]"
      ]
     },
     "execution_count": 77,
     "metadata": {},
     "output_type": "execute_result"
    }
   ],
   "source": [
    "find_path_by_brutal_force(5)"
   ]
  },
  {
   "cell_type": "markdown",
   "metadata": {},
   "source": [
    "#### brute force is very slow, next try with DP and a visited set to store the already computed result"
   ]
  },
  {
   "cell_type": "code",
   "execution_count": 78,
   "metadata": {},
   "outputs": [],
   "source": [
    "from time import time\n",
    "from collections import defaultdict"
   ]
  },
  {
   "cell_type": "code",
   "execution_count": 79,
   "metadata": {},
   "outputs": [],
   "source": [
    "dp_solution=defaultdict(tuple)\n",
    "def dp(i,s):   #simple recursion,input is start point and remaining set of cities\n",
    "    s_int=sum([2**(x-1) for x in s]) #use a int to refer to the content of set of cities\n",
    "    if len(s)==0:\n",
    "        return dist_matrix[i][0]\n",
    "    else:\n",
    "        min_dist,min_city=min([(dist_matrix[i][j]+dp(j,s-{j}),(j,s-{j})) for j in s if j!=i], key=lambda x: x[0] )\n",
    "        dp_solution[(i,s_int)]=min_city\n",
    "        return min_dist"
   ]
  },
  {
   "cell_type": "code",
   "execution_count": 81,
   "metadata": {},
   "outputs": [
    {
     "data": {
      "text/plain": [
       "413.48474699803904"
      ]
     },
     "execution_count": 81,
     "metadata": {},
     "output_type": "execute_result"
    }
   ],
   "source": [
    "dp(0,set(range(1,5)))   #we get the shorted distance, now we add a decorator "
   ]
  },
  {
   "cell_type": "code",
   "execution_count": 82,
   "metadata": {},
   "outputs": [],
   "source": [
    "dp_computed={}\n",
    "def memo_dp(f):\n",
    "    \n",
    "    @wraps(f)\n",
    "    def dp_memo_wrap(arg1,arg2):\n",
    "        dp_result=None\n",
    "        \n",
    "        sum_arg2=sum([2**(i-1) for i in arg2]) #convert set into a int so that it is hashable to be a key for dict\n",
    "        if (arg1,sum_arg2) in dp_computed:\n",
    "            dp_result=dp_computed[arg1,sum_arg2]\n",
    "        else:\n",
    "            dp_result=f(arg1,arg2)\n",
    "            dp_computed[arg1,sum_arg2]=dp_result\n",
    "        return dp_result\n",
    "    return dp_memo_wrap"
   ]
  },
  {
   "cell_type": "code",
   "execution_count": 83,
   "metadata": {},
   "outputs": [],
   "source": [
    "dp_solution=defaultdict(tuple)\n",
    "\n",
    "@memo_dp\n",
    "def dp2(i,s):   #simple recursion,input is start point and remaining set of cities\n",
    "    s_int=sum([2**(x-1) for x in s]) #use a int to refer to the content of set of cities\n",
    "    if len(s)==0:\n",
    "        return dist_matrix[i][0]\n",
    "    else:\n",
    "        min_dist,min_city=min([(dist_matrix[i][j]+dp2(j,s-{j}),(j,s-{j})) for j in s if j!=i], key=lambda x: x[0] )\n",
    "        dp_solution[(i,s_int)]=min_city\n",
    "        return min_dist"
   ]
  },
  {
   "cell_type": "code",
   "execution_count": 84,
   "metadata": {},
   "outputs": [
    {
     "data": {
      "text/plain": [
       "686.843928565283"
      ]
     },
     "execution_count": 84,
     "metadata": {},
     "output_type": "execute_result"
    }
   ],
   "source": [
    "#need to reset dp_solution before running\n",
    "#运行速度还是很慢，用时几秒只能试大概15个城市，20个城市要等很久\n",
    "dp2(0,set(range(1,n)))   #we get the shortest distance, but what is the route?"
   ]
  },
  {
   "cell_type": "code",
   "execution_count": 85,
   "metadata": {},
   "outputs": [],
   "source": [
    "def parse_dp_solution(cur_city,cities):  #get the path solution\n",
    "    route=[]\n",
    "    j,s=dp_solution[(cur_city,sum([2**(x-1) for x in cities]))]\n",
    "\n",
    "    route.append(j)\n",
    "    s_int=sum([2**(x-1) for x in (cities-{j})])\n",
    "    #print(j,s,s_int,route)\n",
    "    \n",
    "    while s:\n",
    "        j,s = dp_solution[(j,s_int)]\n",
    "        s_int=sum([2**(x-1) for x in s])\n",
    "        route.append(j)\n",
    "        #print(j,s,s_int,route)\n",
    "    \n",
    "    chosen_path=[0]+route+[0]\n",
    "    return chosen_path"
   ]
  },
  {
   "cell_type": "code",
   "execution_count": 86,
   "metadata": {},
   "outputs": [
    {
     "data": {
      "text/plain": [
       "[0, 13, 2, 6, 1, 10, 3, 8, 11, 7, 9, 12, 5, 4, 14, 0]"
      ]
     },
     "execution_count": 86,
     "metadata": {},
     "output_type": "execute_result"
    }
   ],
   "source": [
    "parse_dp_solution(0,set(range(1,n)))"
   ]
  },
  {
   "cell_type": "code",
   "execution_count": 87,
   "metadata": {},
   "outputs": [],
   "source": [
    "shortest_path=parse_dp_solution(0,set(range(1,n)))"
   ]
  },
  {
   "cell_type": "code",
   "execution_count": 88,
   "metadata": {},
   "outputs": [],
   "source": [
    "lx=[longitudes[x] for x in shortest_path]\n",
    "ly=[latitudes[y] for y in shortest_path]"
   ]
  },
  {
   "cell_type": "code",
   "execution_count": 89,
   "metadata": {},
   "outputs": [
    {
     "data": {
      "text/plain": [
       "[<matplotlib.lines.Line2D at 0xaa618086a0>]"
      ]
     },
     "execution_count": 89,
     "metadata": {},
     "output_type": "execute_result"
    },
    {
     "data": {
      "image/png": "[encoded data removed]",
      "text/plain": [
       "<Figure size 432x288 with 1 Axes>"
      ]
     },
     "metadata": {
      "needs_background": "light"
     },
     "output_type": "display_data"
    }
   ],
   "source": [
    "fig, ax = plt.subplots()\n",
    "ax.scatter(longitudes, latitudes)\n",
    "for i in range(n):\n",
    "    ax.annotate(i, (longitudes[i], latitudes[i]))\n",
    "plt.plot(lx,ly,color='r')"
   ]
  },
  {
   "cell_type": "markdown",
   "metadata": {},
   "source": [
    "在集合表示那里用set去实现效率很很低，而且要保存的数都是不重复的比较小的整数，所以这里用二进制串表示集合。比如集合{1,3,5,6,7}表示成二进制串用1110101，其中集合里面有的数对应的位数写成1，没有的写成0。要判断第3位是不是1，就把 1110101右移(3-1)位，得到11101，然后结果和00001进行 & 运算，如果结果是1说明第3位是1，否则说明第3位是0。\n",
    "\n",
    "推广一下，对于数字x，要看它的第i位是不是1，那么可以通过判断布尔表达式 (((x >> (i - 1) ) & 1) == 1的真值来实现。\n",
    "\n",
    "下一步尝试下用以上方法来提高运行速度"
   ]
  },
  {
   "cell_type": "code",
   "execution_count": 502,
   "metadata": {},
   "outputs": [],
   "source": [
    "#3 start cities problem not solved yet"
   ]
  },
  {
   "cell_type": "code",
   "execution_count": null,
   "metadata": {},
   "outputs": [],
   "source": []
  }
 ],
 "metadata": {
  "kernelspec": {
   "display_name": "Python 3",
   "language": "python",
   "name": "python3"
  },
  "language_info": {
   "codemirror_mode": {
    "name": "ipython",
    "version": 3
   },
   "file_extension": ".py",
   "mimetype": "text/x-python",
   "name": "python",
   "nbconvert_exporter": "python",
   "pygments_lexer": "ipython3",
   "version": "3.7.3"
  }
 },
 "nbformat": 4,
 "nbformat_minor": 2
}
